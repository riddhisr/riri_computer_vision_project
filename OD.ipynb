{
 "cells": [
  {
   "cell_type": "code",
   "execution_count": 1,
   "metadata": {},
   "outputs": [
    {
     "name": "stdout",
     "output_type": "stream",
     "text": [
      "✅ Dataset downloaded successfully!\n",
      "✅ Dataset extracted to: pothole_dataset\n"
     ]
    }
   ],
   "source": [
    "import requests\n",
    "import zipfile\n",
    "import os\n",
    "\n",
    "# Define dataset URL and paths\n",
    "dataset_url = \"https://public.roboflow.com/ds/0WhvV4NLDN?key=FoeBlx3iqM\"\n",
    "dataset_zip = \"pothole_dataset.zip\"\n",
    "extract_path = \"pothole_dataset\"\n",
    "\n",
    "# Download dataset\n",
    "response = requests.get(dataset_url, stream=True)\n",
    "with open(dataset_zip, \"wb\") as file:\n",
    "    for chunk in response.iter_content(chunk_size=1024):\n",
    "        file.write(chunk)\n",
    "\n",
    "print(\"✅ Dataset downloaded successfully!\")\n",
    "\n",
    "# Extract dataset\n",
    "with zipfile.ZipFile(dataset_zip, \"r\") as zip_ref:\n",
    "    zip_ref.extractall(extract_path)\n",
    "\n",
    "print(f\"✅ Dataset extracted to: {extract_path}\")"
   ]
  },
  {
   "cell_type": "code",
   "execution_count": 2,
   "metadata": {},
   "outputs": [
    {
     "name": "stdout",
     "output_type": "stream",
     "text": [
      "✅ Found: train/images\n",
      "✅ Found: train/labels\n",
      "✅ Found: valid/images\n",
      "✅ Found: valid/labels\n",
      "✅ Found: test/images\n",
      "✅ Found: test/labels\n",
      "✅ Dataset ready!\n"
     ]
    }
   ],
   "source": [
    "import os\n",
    "\n",
    "dataset_path = \"pothole_dataset\"\n",
    "required_folders = [\"train/images\", \"train/labels\", \"valid/images\", \"valid/labels\", \"test/images\", \"test/labels\"]\n",
    "\n",
    "for folder in required_folders:\n",
    "    path = os.path.join(dataset_path, folder)\n",
    "    if not os.path.exists(path):\n",
    "        print(f\"❌ Missing: {folder}\")\n",
    "    else:\n",
    "        print(f\"✅ Found: {folder}\")\n",
    "\n",
    "print(\"✅ Dataset ready!\")"
   ]
  },
  {
   "cell_type": "code",
   "execution_count": 3,
   "metadata": {},
   "outputs": [
    {
     "name": "stdout",
     "output_type": "stream",
     "text": [
      "Downloading https://github.com/ultralytics/assets/releases/download/v8.3.0/yolov8n.pt to 'yolov8n.pt'...\n"
     ]
    },
    {
     "name": "stderr",
     "output_type": "stream",
     "text": [
      "100%|██████████| 6.25M/6.25M [00:00<00:00, 11.1MB/s]\n"
     ]
    },
    {
     "name": "stdout",
     "output_type": "stream",
     "text": [
      "Ultralytics 8.3.93  Python-3.12.6 torch-2.5.1+cpu CPU (Intel Core(TM) i7-7600U 2.80GHz)\n",
      "\u001b[34m\u001b[1mengine\\trainer: \u001b[0mtask=detect, mode=train, model=yolov8n.pt, data=pothole_dataset/data.yaml, epochs=10, time=None, patience=100, batch=16, imgsz=640, save=True, save_period=-1, cache=False, device=None, workers=8, project=None, name=train, exist_ok=False, pretrained=True, optimizer=auto, verbose=True, seed=0, deterministic=True, single_cls=False, rect=False, cos_lr=False, close_mosaic=10, resume=False, amp=True, fraction=1.0, profile=False, freeze=None, multi_scale=False, overlap_mask=True, mask_ratio=4, dropout=0.0, val=True, split=val, save_json=False, save_hybrid=False, conf=None, iou=0.7, max_det=300, half=False, dnn=False, plots=True, source=None, vid_stride=1, stream_buffer=False, visualize=False, augment=False, agnostic_nms=False, classes=None, retina_masks=False, embed=None, show=False, save_frames=False, save_txt=False, save_conf=False, save_crop=False, show_labels=True, show_conf=True, show_boxes=True, line_width=None, format=torchscript, keras=False, optimize=False, int8=False, dynamic=False, simplify=True, opset=None, workspace=None, nms=False, lr0=0.01, lrf=0.01, momentum=0.937, weight_decay=0.0005, warmup_epochs=3.0, warmup_momentum=0.8, warmup_bias_lr=0.1, box=7.5, cls=0.5, dfl=1.5, pose=12.0, kobj=1.0, nbs=64, hsv_h=0.015, hsv_s=0.7, hsv_v=0.4, degrees=0.0, translate=0.1, scale=0.5, shear=0.0, perspective=0.0, flipud=0.0, fliplr=0.5, bgr=0.0, mosaic=1.0, mixup=0.0, copy_paste=0.0, copy_paste_mode=flip, auto_augment=randaugment, erasing=0.4, crop_fraction=1.0, cfg=None, tracker=botsort.yaml, save_dir=runs\\detect\\train\n",
      "Overriding model.yaml nc=80 with nc=1\n",
      "\n",
      "                   from  n    params  module                                       arguments                     \n",
      "  0                  -1  1       464  ultralytics.nn.modules.conv.Conv             [3, 16, 3, 2]                 \n",
      "  1                  -1  1      4672  ultralytics.nn.modules.conv.Conv             [16, 32, 3, 2]                \n",
      "  2                  -1  1      7360  ultralytics.nn.modules.block.C2f             [32, 32, 1, True]             \n",
      "  3                  -1  1     18560  ultralytics.nn.modules.conv.Conv             [32, 64, 3, 2]                \n",
      "  4                  -1  2     49664  ultralytics.nn.modules.block.C2f             [64, 64, 2, True]             \n",
      "  5                  -1  1     73984  ultralytics.nn.modules.conv.Conv             [64, 128, 3, 2]               \n",
      "  6                  -1  2    197632  ultralytics.nn.modules.block.C2f             [128, 128, 2, True]           \n",
      "  7                  -1  1    295424  ultralytics.nn.modules.conv.Conv             [128, 256, 3, 2]              \n",
      "  8                  -1  1    460288  ultralytics.nn.modules.block.C2f             [256, 256, 1, True]           \n",
      "  9                  -1  1    164608  ultralytics.nn.modules.block.SPPF            [256, 256, 5]                 \n",
      " 10                  -1  1         0  torch.nn.modules.upsampling.Upsample         [None, 2, 'nearest']          \n",
      " 11             [-1, 6]  1         0  ultralytics.nn.modules.conv.Concat           [1]                           \n",
      " 12                  -1  1    148224  ultralytics.nn.modules.block.C2f             [384, 128, 1]                 \n",
      " 13                  -1  1         0  torch.nn.modules.upsampling.Upsample         [None, 2, 'nearest']          \n",
      " 14             [-1, 4]  1         0  ultralytics.nn.modules.conv.Concat           [1]                           \n",
      " 15                  -1  1     37248  ultralytics.nn.modules.block.C2f             [192, 64, 1]                  \n",
      " 16                  -1  1     36992  ultralytics.nn.modules.conv.Conv             [64, 64, 3, 2]                \n",
      " 17            [-1, 12]  1         0  ultralytics.nn.modules.conv.Concat           [1]                           \n",
      " 18                  -1  1    123648  ultralytics.nn.modules.block.C2f             [192, 128, 1]                 \n",
      " 19                  -1  1    147712  ultralytics.nn.modules.conv.Conv             [128, 128, 3, 2]              \n",
      " 20             [-1, 9]  1         0  ultralytics.nn.modules.conv.Concat           [1]                           \n",
      " 21                  -1  1    493056  ultralytics.nn.modules.block.C2f             [384, 256, 1]                 \n",
      " 22        [15, 18, 21]  1    751507  ultralytics.nn.modules.head.Detect           [1, [64, 128, 256]]           \n",
      "Model summary: 129 layers, 3,011,043 parameters, 3,011,027 gradients, 8.2 GFLOPs\n",
      "\n",
      "Transferred 319/355 items from pretrained weights\n",
      "\u001b[34m\u001b[1mTensorBoard: \u001b[0mStart with 'tensorboard --logdir runs\\detect\\train', view at http://localhost:6006/\n",
      "Freezing layer 'model.22.dfl.conv.weight'\n"
     ]
    },
    {
     "name": "stderr",
     "output_type": "stream",
     "text": [
      "\u001b[34m\u001b[1mtrain: \u001b[0mScanning C:\\Users\\HP\\Desktop\\NMIMS\\NMIMS YEAR3 SEM6\\CVA\\assignment2\\pothole_dataset\\train\\labels... 465 images, 0 backgrounds, 0 corrupt: 100%|██████████| 465/465 [00:04<00:00, 114.40it/s]\n"
     ]
    },
    {
     "name": "stdout",
     "output_type": "stream",
     "text": [
      "\u001b[34m\u001b[1mtrain: \u001b[0mNew cache created: C:\\Users\\HP\\Desktop\\NMIMS\\NMIMS YEAR3 SEM6\\CVA\\assignment2\\pothole_dataset\\train\\labels.cache\n"
     ]
    },
    {
     "name": "stderr",
     "output_type": "stream",
     "text": [
      "\u001b[34m\u001b[1mval: \u001b[0mScanning C:\\Users\\HP\\Desktop\\NMIMS\\NMIMS YEAR3 SEM6\\CVA\\assignment2\\pothole_dataset\\valid\\labels... 133 images, 0 backgrounds, 0 corrupt: 100%|██████████| 133/133 [00:01<00:00, 94.42it/s] "
     ]
    },
    {
     "name": "stdout",
     "output_type": "stream",
     "text": [
      "\u001b[34m\u001b[1mval: \u001b[0mNew cache created: C:\\Users\\HP\\Desktop\\NMIMS\\NMIMS YEAR3 SEM6\\CVA\\assignment2\\pothole_dataset\\valid\\labels.cache\n"
     ]
    },
    {
     "name": "stderr",
     "output_type": "stream",
     "text": [
      "\n"
     ]
    },
    {
     "name": "stdout",
     "output_type": "stream",
     "text": [
      "Plotting labels to runs\\detect\\train\\labels.jpg... \n",
      "\u001b[34m\u001b[1moptimizer:\u001b[0m 'optimizer=auto' found, ignoring 'lr0=0.01' and 'momentum=0.937' and determining best 'optimizer', 'lr0' and 'momentum' automatically... \n",
      "\u001b[34m\u001b[1moptimizer:\u001b[0m AdamW(lr=0.002, momentum=0.9) with parameter groups 57 weight(decay=0.0), 64 weight(decay=0.0005), 63 bias(decay=0.0)\n"
     ]
    },
    {
     "name": "stderr",
     "output_type": "stream",
     "text": [
      "2025/03/19 18:55:05 INFO mlflow.tracking.fluent: Experiment with name '/Shared/Ultralytics' does not exist. Creating a new experiment.\n",
      "2025/03/19 18:55:05 WARNING mlflow.utils.autologging_utils: MLflow statsmodels autologging is known to be compatible with 0.11.1 <= statsmodels <= 0.14.3, but the installed version is 0.14.4. If you encounter errors during autologging, try upgrading / downgrading statsmodels to a compatible version, or try upgrading MLflow.\n",
      "2025/03/19 18:55:06 INFO mlflow.tracking.fluent: Autologging successfully enabled for statsmodels.\n",
      "2025/03/19 18:55:06 WARNING mlflow.utils.autologging_utils: MLflow keras autologging is known to be compatible with 3.0.2 <= keras <= 3.5.0, but the installed version is 3.6.0. If you encounter errors during autologging, try upgrading / downgrading keras to a compatible version, or try upgrading MLflow.\n",
      "2025/03/19 18:55:06 INFO mlflow.tracking.fluent: Autologging successfully enabled for keras.\n",
      "2025/03/19 18:55:07 WARNING mlflow.utils.autologging_utils: MLflow tensorflow autologging is known to be compatible with 2.7.4 <= tensorflow <= 2.17.0, but the installed version is 2.18.0. If you encounter errors during autologging, try upgrading / downgrading tensorflow to a compatible version, or try upgrading MLflow.\n",
      "2025/03/19 18:55:07 INFO mlflow.tracking.fluent: Autologging successfully enabled for tensorflow.\n"
     ]
    },
    {
     "name": "stdout",
     "output_type": "stream",
     "text": [
      "\u001b[34m\u001b[1mMLflow: \u001b[0mlogging run_id(622a57cd462b426283e37cea3f34f0d8) to runs\\mlflow\n",
      "\u001b[34m\u001b[1mMLflow: \u001b[0mview at http://127.0.0.1:5000 with 'mlflow server --backend-store-uri runs\\mlflow'\n",
      "\u001b[34m\u001b[1mMLflow: \u001b[0mdisable with 'yolo settings mlflow=False'\n",
      "\u001b[34m\u001b[1mTensorBoard: \u001b[0mmodel graph visualization added \n",
      "Image sizes 640 train, 640 val\n",
      "Using 0 dataloader workers\n",
      "Logging results to \u001b[1mruns\\detect\\train\u001b[0m\n",
      "Starting training for 10 epochs...\n",
      "Closing dataloader mosaic\n",
      "\n",
      "      Epoch    GPU_mem   box_loss   cls_loss   dfl_loss  Instances       Size\n"
     ]
    },
    {
     "name": "stderr",
     "output_type": "stream",
     "text": [
      "       1/10         0G      1.655      2.902      1.574          1        640: 100%|██████████| 30/30 [05:37<00:00, 11.26s/it]\n",
      "                 Class     Images  Instances      Box(P          R      mAP50  mAP50-95): 100%|██████████| 5/5 [00:35<00:00,  7.06s/it]"
     ]
    },
    {
     "name": "stdout",
     "output_type": "stream",
     "text": [
      "                   all        133        330      0.863     0.0765      0.271      0.149\n"
     ]
    },
    {
     "name": "stderr",
     "output_type": "stream",
     "text": [
      "\n"
     ]
    },
    {
     "name": "stdout",
     "output_type": "stream",
     "text": [
      "\n",
      "      Epoch    GPU_mem   box_loss   cls_loss   dfl_loss  Instances       Size\n"
     ]
    },
    {
     "name": "stderr",
     "output_type": "stream",
     "text": [
      "       2/10         0G       1.54      2.233      1.443          5        640: 100%|██████████| 30/30 [05:04<00:00, 10.16s/it]\n",
      "                 Class     Images  Instances      Box(P          R      mAP50  mAP50-95): 100%|██████████| 5/5 [00:30<00:00,  6.05s/it]"
     ]
    },
    {
     "name": "stdout",
     "output_type": "stream",
     "text": [
      "                   all        133        330      0.449      0.224       0.21        0.1\n"
     ]
    },
    {
     "name": "stderr",
     "output_type": "stream",
     "text": [
      "\n"
     ]
    },
    {
     "name": "stdout",
     "output_type": "stream",
     "text": [
      "\n",
      "      Epoch    GPU_mem   box_loss   cls_loss   dfl_loss  Instances       Size\n"
     ]
    },
    {
     "name": "stderr",
     "output_type": "stream",
     "text": [
      "       3/10         0G      1.618      2.181      1.528          1        640: 100%|██████████| 30/30 [04:58<00:00,  9.93s/it]\n",
      "                 Class     Images  Instances      Box(P          R      mAP50  mAP50-95): 100%|██████████| 5/5 [00:29<00:00,  5.90s/it]"
     ]
    },
    {
     "name": "stdout",
     "output_type": "stream",
     "text": [
      "                   all        133        330      0.327      0.279      0.221      0.109\n"
     ]
    },
    {
     "name": "stderr",
     "output_type": "stream",
     "text": [
      "\n"
     ]
    },
    {
     "name": "stdout",
     "output_type": "stream",
     "text": [
      "\n",
      "      Epoch    GPU_mem   box_loss   cls_loss   dfl_loss  Instances       Size\n"
     ]
    },
    {
     "name": "stderr",
     "output_type": "stream",
     "text": [
      "       4/10         0G      1.571      2.084      1.501          1        640: 100%|██████████| 30/30 [04:59<00:00,  9.99s/it]\n",
      "                 Class     Images  Instances      Box(P          R      mAP50  mAP50-95): 100%|██████████| 5/5 [00:30<00:00,  6.10s/it]"
     ]
    },
    {
     "name": "stdout",
     "output_type": "stream",
     "text": [
      "                   all        133        330      0.368      0.279      0.245      0.116\n"
     ]
    },
    {
     "name": "stderr",
     "output_type": "stream",
     "text": [
      "\n"
     ]
    },
    {
     "name": "stdout",
     "output_type": "stream",
     "text": [
      "\n",
      "      Epoch    GPU_mem   box_loss   cls_loss   dfl_loss  Instances       Size\n"
     ]
    },
    {
     "name": "stderr",
     "output_type": "stream",
     "text": [
      "       5/10         0G       1.52      1.915      1.473          1        640: 100%|██████████| 30/30 [05:05<00:00, 10.18s/it]\n",
      "                 Class     Images  Instances      Box(P          R      mAP50  mAP50-95): 100%|██████████| 5/5 [00:31<00:00,  6.27s/it]"
     ]
    },
    {
     "name": "stdout",
     "output_type": "stream",
     "text": [
      "                   all        133        330      0.377       0.41      0.274      0.138\n"
     ]
    },
    {
     "name": "stderr",
     "output_type": "stream",
     "text": [
      "\n"
     ]
    },
    {
     "name": "stdout",
     "output_type": "stream",
     "text": [
      "\n",
      "      Epoch    GPU_mem   box_loss   cls_loss   dfl_loss  Instances       Size\n"
     ]
    },
    {
     "name": "stderr",
     "output_type": "stream",
     "text": [
      "       6/10         0G      1.479      1.784      1.394          1        640: 100%|██████████| 30/30 [05:02<00:00, 10.08s/it]\n",
      "                 Class     Images  Instances      Box(P          R      mAP50  mAP50-95): 100%|██████████| 5/5 [00:29<00:00,  5.85s/it]"
     ]
    },
    {
     "name": "stdout",
     "output_type": "stream",
     "text": [
      "                   all        133        330      0.623      0.539      0.567      0.297\n"
     ]
    },
    {
     "name": "stderr",
     "output_type": "stream",
     "text": [
      "\n"
     ]
    },
    {
     "name": "stdout",
     "output_type": "stream",
     "text": [
      "\n",
      "      Epoch    GPU_mem   box_loss   cls_loss   dfl_loss  Instances       Size\n"
     ]
    },
    {
     "name": "stderr",
     "output_type": "stream",
     "text": [
      "       7/10         0G      1.443      1.665      1.374          2        640: 100%|██████████| 30/30 [04:58<00:00,  9.95s/it]\n",
      "                 Class     Images  Instances      Box(P          R      mAP50  mAP50-95): 100%|██████████| 5/5 [00:29<00:00,  5.99s/it]"
     ]
    },
    {
     "name": "stdout",
     "output_type": "stream",
     "text": [
      "                   all        133        330      0.601       0.57      0.596      0.322\n"
     ]
    },
    {
     "name": "stderr",
     "output_type": "stream",
     "text": [
      "\n"
     ]
    },
    {
     "name": "stdout",
     "output_type": "stream",
     "text": [
      "\n",
      "      Epoch    GPU_mem   box_loss   cls_loss   dfl_loss  Instances       Size\n"
     ]
    },
    {
     "name": "stderr",
     "output_type": "stream",
     "text": [
      "       8/10         0G      1.392      1.517      1.311          1        640: 100%|██████████| 30/30 [04:58<00:00,  9.96s/it]\n",
      "                 Class     Images  Instances      Box(P          R      mAP50  mAP50-95): 100%|██████████| 5/5 [00:28<00:00,  5.72s/it]"
     ]
    },
    {
     "name": "stdout",
     "output_type": "stream",
     "text": [
      "                   all        133        330      0.772      0.539      0.633      0.365\n"
     ]
    },
    {
     "name": "stderr",
     "output_type": "stream",
     "text": [
      "\n"
     ]
    },
    {
     "name": "stdout",
     "output_type": "stream",
     "text": [
      "\n",
      "      Epoch    GPU_mem   box_loss   cls_loss   dfl_loss  Instances       Size\n"
     ]
    },
    {
     "name": "stderr",
     "output_type": "stream",
     "text": [
      "       9/10         0G      1.338      1.453      1.315          1        640: 100%|██████████| 30/30 [04:57<00:00,  9.93s/it]\n",
      "                 Class     Images  Instances      Box(P          R      mAP50  mAP50-95): 100%|██████████| 5/5 [00:28<00:00,  5.77s/it]"
     ]
    },
    {
     "name": "stdout",
     "output_type": "stream",
     "text": [
      "                   all        133        330      0.808      0.587      0.697      0.401\n"
     ]
    },
    {
     "name": "stderr",
     "output_type": "stream",
     "text": [
      "\n"
     ]
    },
    {
     "name": "stdout",
     "output_type": "stream",
     "text": [
      "\n",
      "      Epoch    GPU_mem   box_loss   cls_loss   dfl_loss  Instances       Size\n"
     ]
    },
    {
     "name": "stderr",
     "output_type": "stream",
     "text": [
      "      10/10         0G       1.26      1.377      1.252          2        640: 100%|██████████| 30/30 [04:58<00:00,  9.95s/it]\n",
      "                 Class     Images  Instances      Box(P          R      mAP50  mAP50-95): 100%|██████████| 5/5 [00:29<00:00,  5.91s/it]"
     ]
    },
    {
     "name": "stdout",
     "output_type": "stream",
     "text": [
      "                   all        133        330      0.788      0.627      0.716      0.411\n"
     ]
    },
    {
     "name": "stderr",
     "output_type": "stream",
     "text": [
      "\n"
     ]
    },
    {
     "name": "stdout",
     "output_type": "stream",
     "text": [
      "\n",
      "10 epochs completed in 0.933 hours.\n",
      "Optimizer stripped from runs\\detect\\train\\weights\\last.pt, 6.2MB\n",
      "Optimizer stripped from runs\\detect\\train\\weights\\best.pt, 6.2MB\n",
      "\n",
      "Validating runs\\detect\\train\\weights\\best.pt...\n",
      "Ultralytics 8.3.93  Python-3.12.6 torch-2.5.1+cpu CPU (Intel Core(TM) i7-7600U 2.80GHz)\n",
      "Model summary (fused): 72 layers, 3,005,843 parameters, 0 gradients, 8.1 GFLOPs\n"
     ]
    },
    {
     "name": "stderr",
     "output_type": "stream",
     "text": [
      "                 Class     Images  Instances      Box(P          R      mAP50  mAP50-95): 100%|██████████| 5/5 [00:25<00:00,  5.17s/it]\n"
     ]
    },
    {
     "name": "stdout",
     "output_type": "stream",
     "text": [
      "                   all        133        330       0.79      0.627      0.716      0.411\n",
      "Speed: 3.5ms preprocess, 167.5ms inference, 0.0ms loss, 3.8ms postprocess per image\n",
      "Results saved to \u001b[1mruns\\detect\\train\u001b[0m\n",
      "\u001b[34m\u001b[1mMLflow: \u001b[0mresults logged to runs\\mlflow\n",
      "\u001b[34m\u001b[1mMLflow: \u001b[0mdisable with 'yolo settings mlflow=False'\n"
     ]
    },
    {
     "data": {
      "text/plain": [
       "ultralytics.utils.metrics.DetMetrics object with attributes:\n",
       "\n",
       "ap_class_index: array([0])\n",
       "box: ultralytics.utils.metrics.Metric object\n",
       "confusion_matrix: <ultralytics.utils.metrics.ConfusionMatrix object at 0x000002710BA9B6B0>\n",
       "curves: ['Precision-Recall(B)', 'F1-Confidence(B)', 'Precision-Confidence(B)', 'Recall-Confidence(B)']\n",
       "curves_results: [[array([          0,    0.001001,    0.002002,    0.003003,    0.004004,    0.005005,    0.006006,    0.007007,    0.008008,    0.009009,     0.01001,    0.011011,    0.012012,    0.013013,    0.014014,    0.015015,    0.016016,    0.017017,    0.018018,    0.019019,     0.02002,    0.021021,    0.022022,    0.023023,\n",
       "          0.024024,    0.025025,    0.026026,    0.027027,    0.028028,    0.029029,     0.03003,    0.031031,    0.032032,    0.033033,    0.034034,    0.035035,    0.036036,    0.037037,    0.038038,    0.039039,     0.04004,    0.041041,    0.042042,    0.043043,    0.044044,    0.045045,    0.046046,    0.047047,\n",
       "          0.048048,    0.049049,     0.05005,    0.051051,    0.052052,    0.053053,    0.054054,    0.055055,    0.056056,    0.057057,    0.058058,    0.059059,     0.06006,    0.061061,    0.062062,    0.063063,    0.064064,    0.065065,    0.066066,    0.067067,    0.068068,    0.069069,     0.07007,    0.071071,\n",
       "          0.072072,    0.073073,    0.074074,    0.075075,    0.076076,    0.077077,    0.078078,    0.079079,     0.08008,    0.081081,    0.082082,    0.083083,    0.084084,    0.085085,    0.086086,    0.087087,    0.088088,    0.089089,     0.09009,    0.091091,    0.092092,    0.093093,    0.094094,    0.095095,\n",
       "          0.096096,    0.097097,    0.098098,    0.099099,      0.1001,      0.1011,      0.1021,      0.1031,      0.1041,     0.10511,     0.10611,     0.10711,     0.10811,     0.10911,     0.11011,     0.11111,     0.11211,     0.11311,     0.11411,     0.11512,     0.11612,     0.11712,     0.11812,     0.11912,\n",
       "           0.12012,     0.12112,     0.12212,     0.12312,     0.12412,     0.12513,     0.12613,     0.12713,     0.12813,     0.12913,     0.13013,     0.13113,     0.13213,     0.13313,     0.13413,     0.13514,     0.13614,     0.13714,     0.13814,     0.13914,     0.14014,     0.14114,     0.14214,     0.14314,\n",
       "           0.14414,     0.14515,     0.14615,     0.14715,     0.14815,     0.14915,     0.15015,     0.15115,     0.15215,     0.15315,     0.15415,     0.15516,     0.15616,     0.15716,     0.15816,     0.15916,     0.16016,     0.16116,     0.16216,     0.16316,     0.16416,     0.16517,     0.16617,     0.16717,\n",
       "           0.16817,     0.16917,     0.17017,     0.17117,     0.17217,     0.17317,     0.17417,     0.17518,     0.17618,     0.17718,     0.17818,     0.17918,     0.18018,     0.18118,     0.18218,     0.18318,     0.18418,     0.18519,     0.18619,     0.18719,     0.18819,     0.18919,     0.19019,     0.19119,\n",
       "           0.19219,     0.19319,     0.19419,      0.1952,      0.1962,      0.1972,      0.1982,      0.1992,      0.2002,      0.2012,      0.2022,      0.2032,      0.2042,     0.20521,     0.20621,     0.20721,     0.20821,     0.20921,     0.21021,     0.21121,     0.21221,     0.21321,     0.21421,     0.21522,\n",
       "           0.21622,     0.21722,     0.21822,     0.21922,     0.22022,     0.22122,     0.22222,     0.22322,     0.22422,     0.22523,     0.22623,     0.22723,     0.22823,     0.22923,     0.23023,     0.23123,     0.23223,     0.23323,     0.23423,     0.23524,     0.23624,     0.23724,     0.23824,     0.23924,\n",
       "           0.24024,     0.24124,     0.24224,     0.24324,     0.24424,     0.24525,     0.24625,     0.24725,     0.24825,     0.24925,     0.25025,     0.25125,     0.25225,     0.25325,     0.25425,     0.25526,     0.25626,     0.25726,     0.25826,     0.25926,     0.26026,     0.26126,     0.26226,     0.26326,\n",
       "           0.26426,     0.26527,     0.26627,     0.26727,     0.26827,     0.26927,     0.27027,     0.27127,     0.27227,     0.27327,     0.27427,     0.27528,     0.27628,     0.27728,     0.27828,     0.27928,     0.28028,     0.28128,     0.28228,     0.28328,     0.28428,     0.28529,     0.28629,     0.28729,\n",
       "           0.28829,     0.28929,     0.29029,     0.29129,     0.29229,     0.29329,     0.29429,      0.2953,      0.2963,      0.2973,      0.2983,      0.2993,      0.3003,      0.3013,      0.3023,      0.3033,      0.3043,     0.30531,     0.30631,     0.30731,     0.30831,     0.30931,     0.31031,     0.31131,\n",
       "           0.31231,     0.31331,     0.31431,     0.31532,     0.31632,     0.31732,     0.31832,     0.31932,     0.32032,     0.32132,     0.32232,     0.32332,     0.32432,     0.32533,     0.32633,     0.32733,     0.32833,     0.32933,     0.33033,     0.33133,     0.33233,     0.33333,     0.33433,     0.33534,\n",
       "           0.33634,     0.33734,     0.33834,     0.33934,     0.34034,     0.34134,     0.34234,     0.34334,     0.34434,     0.34535,     0.34635,     0.34735,     0.34835,     0.34935,     0.35035,     0.35135,     0.35235,     0.35335,     0.35435,     0.35536,     0.35636,     0.35736,     0.35836,     0.35936,\n",
       "           0.36036,     0.36136,     0.36236,     0.36336,     0.36436,     0.36537,     0.36637,     0.36737,     0.36837,     0.36937,     0.37037,     0.37137,     0.37237,     0.37337,     0.37437,     0.37538,     0.37638,     0.37738,     0.37838,     0.37938,     0.38038,     0.38138,     0.38238,     0.38338,\n",
       "           0.38438,     0.38539,     0.38639,     0.38739,     0.38839,     0.38939,     0.39039,     0.39139,     0.39239,     0.39339,     0.39439,      0.3954,      0.3964,      0.3974,      0.3984,      0.3994,      0.4004,      0.4014,      0.4024,      0.4034,      0.4044,     0.40541,     0.40641,     0.40741,\n",
       "           0.40841,     0.40941,     0.41041,     0.41141,     0.41241,     0.41341,     0.41441,     0.41542,     0.41642,     0.41742,     0.41842,     0.41942,     0.42042,     0.42142,     0.42242,     0.42342,     0.42442,     0.42543,     0.42643,     0.42743,     0.42843,     0.42943,     0.43043,     0.43143,\n",
       "           0.43243,     0.43343,     0.43443,     0.43544,     0.43644,     0.43744,     0.43844,     0.43944,     0.44044,     0.44144,     0.44244,     0.44344,     0.44444,     0.44545,     0.44645,     0.44745,     0.44845,     0.44945,     0.45045,     0.45145,     0.45245,     0.45345,     0.45445,     0.45546,\n",
       "           0.45646,     0.45746,     0.45846,     0.45946,     0.46046,     0.46146,     0.46246,     0.46346,     0.46446,     0.46547,     0.46647,     0.46747,     0.46847,     0.46947,     0.47047,     0.47147,     0.47247,     0.47347,     0.47447,     0.47548,     0.47648,     0.47748,     0.47848,     0.47948,\n",
       "           0.48048,     0.48148,     0.48248,     0.48348,     0.48448,     0.48549,     0.48649,     0.48749,     0.48849,     0.48949,     0.49049,     0.49149,     0.49249,     0.49349,     0.49449,      0.4955,      0.4965,      0.4975,      0.4985,      0.4995,      0.5005,      0.5015,      0.5025,      0.5035,\n",
       "            0.5045,     0.50551,     0.50651,     0.50751,     0.50851,     0.50951,     0.51051,     0.51151,     0.51251,     0.51351,     0.51451,     0.51552,     0.51652,     0.51752,     0.51852,     0.51952,     0.52052,     0.52152,     0.52252,     0.52352,     0.52452,     0.52553,     0.52653,     0.52753,\n",
       "           0.52853,     0.52953,     0.53053,     0.53153,     0.53253,     0.53353,     0.53453,     0.53554,     0.53654,     0.53754,     0.53854,     0.53954,     0.54054,     0.54154,     0.54254,     0.54354,     0.54454,     0.54555,     0.54655,     0.54755,     0.54855,     0.54955,     0.55055,     0.55155,\n",
       "           0.55255,     0.55355,     0.55455,     0.55556,     0.55656,     0.55756,     0.55856,     0.55956,     0.56056,     0.56156,     0.56256,     0.56356,     0.56456,     0.56557,     0.56657,     0.56757,     0.56857,     0.56957,     0.57057,     0.57157,     0.57257,     0.57357,     0.57457,     0.57558,\n",
       "           0.57658,     0.57758,     0.57858,     0.57958,     0.58058,     0.58158,     0.58258,     0.58358,     0.58458,     0.58559,     0.58659,     0.58759,     0.58859,     0.58959,     0.59059,     0.59159,     0.59259,     0.59359,     0.59459,      0.5956,      0.5966,      0.5976,      0.5986,      0.5996,\n",
       "            0.6006,      0.6016,      0.6026,      0.6036,      0.6046,     0.60561,     0.60661,     0.60761,     0.60861,     0.60961,     0.61061,     0.61161,     0.61261,     0.61361,     0.61461,     0.61562,     0.61662,     0.61762,     0.61862,     0.61962,     0.62062,     0.62162,     0.62262,     0.62362,\n",
       "           0.62462,     0.62563,     0.62663,     0.62763,     0.62863,     0.62963,     0.63063,     0.63163,     0.63263,     0.63363,     0.63463,     0.63564,     0.63664,     0.63764,     0.63864,     0.63964,     0.64064,     0.64164,     0.64264,     0.64364,     0.64464,     0.64565,     0.64665,     0.64765,\n",
       "           0.64865,     0.64965,     0.65065,     0.65165,     0.65265,     0.65365,     0.65465,     0.65566,     0.65666,     0.65766,     0.65866,     0.65966,     0.66066,     0.66166,     0.66266,     0.66366,     0.66466,     0.66567,     0.66667,     0.66767,     0.66867,     0.66967,     0.67067,     0.67167,\n",
       "           0.67267,     0.67367,     0.67467,     0.67568,     0.67668,     0.67768,     0.67868,     0.67968,     0.68068,     0.68168,     0.68268,     0.68368,     0.68468,     0.68569,     0.68669,     0.68769,     0.68869,     0.68969,     0.69069,     0.69169,     0.69269,     0.69369,     0.69469,      0.6957,\n",
       "            0.6967,      0.6977,      0.6987,      0.6997,      0.7007,      0.7017,      0.7027,      0.7037,      0.7047,     0.70571,     0.70671,     0.70771,     0.70871,     0.70971,     0.71071,     0.71171,     0.71271,     0.71371,     0.71471,     0.71572,     0.71672,     0.71772,     0.71872,     0.71972,\n",
       "           0.72072,     0.72172,     0.72272,     0.72372,     0.72472,     0.72573,     0.72673,     0.72773,     0.72873,     0.72973,     0.73073,     0.73173,     0.73273,     0.73373,     0.73473,     0.73574,     0.73674,     0.73774,     0.73874,     0.73974,     0.74074,     0.74174,     0.74274,     0.74374,\n",
       "           0.74474,     0.74575,     0.74675,     0.74775,     0.74875,     0.74975,     0.75075,     0.75175,     0.75275,     0.75375,     0.75475,     0.75576,     0.75676,     0.75776,     0.75876,     0.75976,     0.76076,     0.76176,     0.76276,     0.76376,     0.76476,     0.76577,     0.76677,     0.76777,\n",
       "           0.76877,     0.76977,     0.77077,     0.77177,     0.77277,     0.77377,     0.77477,     0.77578,     0.77678,     0.77778,     0.77878,     0.77978,     0.78078,     0.78178,     0.78278,     0.78378,     0.78478,     0.78579,     0.78679,     0.78779,     0.78879,     0.78979,     0.79079,     0.79179,\n",
       "           0.79279,     0.79379,     0.79479,      0.7958,      0.7968,      0.7978,      0.7988,      0.7998,      0.8008,      0.8018,      0.8028,      0.8038,      0.8048,     0.80581,     0.80681,     0.80781,     0.80881,     0.80981,     0.81081,     0.81181,     0.81281,     0.81381,     0.81481,     0.81582,\n",
       "           0.81682,     0.81782,     0.81882,     0.81982,     0.82082,     0.82182,     0.82282,     0.82382,     0.82482,     0.82583,     0.82683,     0.82783,     0.82883,     0.82983,     0.83083,     0.83183,     0.83283,     0.83383,     0.83483,     0.83584,     0.83684,     0.83784,     0.83884,     0.83984,\n",
       "           0.84084,     0.84184,     0.84284,     0.84384,     0.84484,     0.84585,     0.84685,     0.84785,     0.84885,     0.84985,     0.85085,     0.85185,     0.85285,     0.85385,     0.85485,     0.85586,     0.85686,     0.85786,     0.85886,     0.85986,     0.86086,     0.86186,     0.86286,     0.86386,\n",
       "           0.86486,     0.86587,     0.86687,     0.86787,     0.86887,     0.86987,     0.87087,     0.87187,     0.87287,     0.87387,     0.87487,     0.87588,     0.87688,     0.87788,     0.87888,     0.87988,     0.88088,     0.88188,     0.88288,     0.88388,     0.88488,     0.88589,     0.88689,     0.88789,\n",
       "           0.88889,     0.88989,     0.89089,     0.89189,     0.89289,     0.89389,     0.89489,      0.8959,      0.8969,      0.8979,      0.8989,      0.8999,      0.9009,      0.9019,      0.9029,      0.9039,      0.9049,     0.90591,     0.90691,     0.90791,     0.90891,     0.90991,     0.91091,     0.91191,\n",
       "           0.91291,     0.91391,     0.91491,     0.91592,     0.91692,     0.91792,     0.91892,     0.91992,     0.92092,     0.92192,     0.92292,     0.92392,     0.92492,     0.92593,     0.92693,     0.92793,     0.92893,     0.92993,     0.93093,     0.93193,     0.93293,     0.93393,     0.93493,     0.93594,\n",
       "           0.93694,     0.93794,     0.93894,     0.93994,     0.94094,     0.94194,     0.94294,     0.94394,     0.94494,     0.94595,     0.94695,     0.94795,     0.94895,     0.94995,     0.95095,     0.95195,     0.95295,     0.95395,     0.95495,     0.95596,     0.95696,     0.95796,     0.95896,     0.95996,\n",
       "           0.96096,     0.96196,     0.96296,     0.96396,     0.96496,     0.96597,     0.96697,     0.96797,     0.96897,     0.96997,     0.97097,     0.97197,     0.97297,     0.97397,     0.97497,     0.97598,     0.97698,     0.97798,     0.97898,     0.97998,     0.98098,     0.98198,     0.98298,     0.98398,\n",
       "           0.98498,     0.98599,     0.98699,     0.98799,     0.98899,     0.98999,     0.99099,     0.99199,     0.99299,     0.99399,     0.99499,       0.996,       0.997,       0.998,       0.999,           1]), array([[          1,           1,           1,           1,           1,           1,           1,           1,           1,           1,           1,           1,           1,           1,           1,           1,     0.95455,     0.95455,     0.95455,     0.95455,     0.95455,     0.95455,     0.95455,\n",
       "            0.95455,     0.95455,     0.95455,     0.95455,     0.95455,     0.95455,     0.95455,     0.95455,     0.95455,     0.95455,     0.95455,     0.95455,     0.95455,     0.95455,     0.95455,     0.95455,     0.95455,     0.95455,     0.95455,     0.95455,     0.95455,     0.95455,     0.95455,\n",
       "            0.95455,     0.95455,     0.95455,     0.95455,     0.95455,     0.95455,     0.95455,     0.95455,     0.95455,     0.95455,     0.95455,     0.95455,     0.95455,     0.95455,     0.95455,     0.95455,     0.95455,     0.95455,      0.9542,      0.9542,      0.9542,      0.9542,      0.9542,\n",
       "             0.9542,      0.9542,      0.9542,      0.9542,      0.9542,      0.9542,      0.9542,      0.9542,      0.9542,      0.9542,      0.9542,      0.9542,      0.9542,      0.9542,      0.9542,      0.9542,      0.9542,      0.9542,      0.9542,      0.9542,      0.9542,      0.9542,      0.9542,\n",
       "             0.9542,      0.9542,      0.9542,      0.9542,      0.9542,      0.9542,      0.9542,      0.9542,      0.9542,      0.9542,      0.9542,      0.9542,      0.9542,      0.9542,      0.9542,      0.9542,      0.9542,      0.9542,      0.9542,      0.9542,      0.9542,      0.9542,      0.9542,\n",
       "             0.9542,      0.9542,      0.9542,      0.9542,      0.9542,      0.9542,      0.9542,      0.9542,      0.9542,      0.9542,      0.9542,      0.9542,      0.9542,      0.9542,      0.9542,      0.9542,      0.9542,      0.9542,      0.9542,      0.9542,      0.9542,      0.9542,      0.9542,\n",
       "             0.9542,      0.9542,      0.9542,      0.9542,      0.9542,      0.9542,      0.9542,      0.9542,      0.9542,      0.9542,      0.9542,      0.9542,      0.9542,      0.9542,      0.9542,      0.9542,      0.9542,      0.9542,      0.9542,      0.9542,      0.9542,      0.9542,      0.9542,\n",
       "             0.9542,      0.9542,      0.9542,      0.9542,      0.9542,      0.9542,      0.9542,      0.9542,      0.9542,      0.9542,      0.9542,      0.9542,      0.9542,      0.9542,      0.9542,      0.9542,      0.9542,      0.9542,      0.9542,      0.9542,      0.9542,      0.9542,      0.9542,\n",
       "             0.9542,      0.9542,      0.9542,      0.9542,      0.9542,      0.9542,      0.9542,      0.9542,      0.9542,      0.9542,      0.9542,      0.9542,      0.9542,      0.9542,      0.9542,      0.9542,      0.9542,      0.9542,      0.9542,      0.9542,      0.9542,      0.9542,      0.9542,\n",
       "             0.9542,      0.9542,      0.9542,      0.9542,      0.9542,      0.9542,      0.9542,      0.9542,      0.9542,      0.9542,      0.9542,      0.9542,      0.9542,      0.9542,      0.9542,      0.9542,      0.9542,      0.9542,      0.9542,      0.9542,      0.9542,      0.9542,      0.9542,\n",
       "             0.9542,      0.9542,      0.9542,      0.9542,      0.9542,      0.9542,      0.9542,      0.9542,      0.9542,      0.9542,      0.9542,      0.9542,      0.9542,      0.9542,      0.9542,      0.9542,      0.9542,      0.9542,      0.9542,      0.9542,      0.9542,      0.9542,      0.9542,\n",
       "             0.9542,      0.9542,      0.9542,      0.9542,      0.9542,      0.9542,      0.9542,      0.9542,      0.9542,      0.9542,      0.9542,      0.9542,      0.9542,      0.9542,      0.9542,      0.9542,      0.9542,      0.9542,      0.9542,      0.9542,      0.9542,      0.9542,      0.9542,\n",
       "             0.9542,      0.9542,      0.9542,      0.9542,      0.9542,      0.9542,      0.9542,      0.9542,      0.9542,      0.9542,      0.9542,      0.9542,      0.9542,      0.9542,      0.9542,      0.9542,      0.9542,      0.9542,      0.9542,      0.9542,      0.9542,      0.9542,      0.9542,\n",
       "             0.9542,      0.9542,      0.9542,      0.9542,      0.9542,      0.9542,      0.9542,      0.9542,      0.9542,      0.9542,      0.9542,      0.9542,      0.9542,      0.9542,      0.9542,      0.9542,      0.9542,      0.9542,      0.9542,      0.9542,      0.9542,      0.9542,      0.9542,\n",
       "             0.9542,      0.9542,      0.9542,      0.9542,      0.9542,      0.9542,      0.9542,      0.9542,      0.9542,      0.9542,      0.9542,      0.9542,      0.9542,      0.9542,      0.9542,      0.9542,      0.9542,      0.9542,      0.9542,      0.9542,      0.9542,      0.9542,      0.9542,\n",
       "             0.9542,      0.9542,      0.9542,      0.9542,      0.9542,      0.9542,      0.9542,      0.9542,      0.9542,      0.9542,      0.9542,      0.9542,      0.9542,      0.9542,      0.9542,      0.9542,      0.9542,      0.9542,      0.9542,      0.9542,      0.9542,      0.9542,      0.9542,\n",
       "             0.9542,      0.9542,      0.9542,      0.9542,      0.9542,      0.9542,      0.9542,      0.9542,      0.9542,      0.9542,      0.9542,     0.94737,     0.94737,     0.94737,     0.94406,     0.94406,     0.94406,     0.94406,     0.94406,     0.94406,     0.94406,     0.94406,     0.94406,\n",
       "            0.94406,     0.94406,     0.94406,     0.94406,     0.94406,     0.94406,     0.94406,     0.94406,     0.94406,     0.94406,     0.94406,     0.94406,     0.94406,     0.94406,     0.94406,     0.94406,     0.94406,     0.94406,     0.93919,     0.93919,     0.93919,     0.93919,     0.93919,\n",
       "            0.93919,     0.93919,     0.93919,     0.93919,     0.93919,     0.93919,     0.93919,     0.93464,     0.93464,     0.93464,     0.93464,     0.93464,     0.93464,     0.93464,     0.93464,     0.93464,     0.93464,     0.93464,     0.93464,     0.92994,     0.92994,     0.92994,     0.92994,\n",
       "            0.92994,     0.92994,     0.92994,     0.92994,     0.92994,     0.92453,     0.92453,     0.92453,     0.92453,     0.91925,     0.91925,     0.91925,     0.91617,     0.91617,     0.91617,     0.91617,     0.91617,     0.91617,     0.91617,     0.91617,     0.91617,     0.91617,     0.91617,\n",
       "            0.91617,     0.91617,     0.91617,     0.91617,     0.91124,     0.91124,     0.91124,     0.90909,     0.90909,     0.90909,     0.90909,     0.90909,     0.90909,     0.90909,     0.90909,     0.90909,     0.90909,     0.90909,     0.90909,     0.90909,     0.90909,     0.90909,     0.90909,\n",
       "            0.90909,     0.90909,     0.90374,     0.90374,     0.90374,     0.90374,     0.90374,     0.90374,     0.90374,     0.90374,     0.90374,     0.90374,     0.90374,     0.90374,     0.90374,     0.90374,     0.90374,     0.90374,     0.90374,     0.90374,     0.90374,     0.90374,     0.90374,\n",
       "            0.90374,     0.90374,     0.90374,     0.90374,     0.90374,     0.90374,     0.89474,     0.89474,     0.89474,     0.89286,     0.89286,     0.89286,     0.89286,     0.89286,     0.89286,     0.89286,     0.89286,     0.89286,     0.89286,     0.89286,     0.89286,     0.89286,     0.89286,\n",
       "            0.89286,     0.88889,     0.88889,     0.88889,     0.88557,     0.88557,     0.88557,     0.88557,     0.88557,     0.88557,     0.88038,     0.88038,     0.88038,     0.88038,     0.88038,     0.88038,     0.88038,     0.88038,     0.88038,     0.88038,     0.88038,     0.88038,     0.88038,\n",
       "            0.88038,     0.88038,     0.88038,     0.88038,     0.88038,     0.88038,     0.87678,     0.87678,     0.87678,     0.87383,     0.87383,     0.87383,     0.87383,     0.87383,     0.87383,     0.86636,     0.86636,     0.86636,     0.86364,     0.86364,     0.86364,     0.86364,     0.86364,\n",
       "            0.86364,     0.86099,     0.86099,     0.86099,     0.86099,     0.86099,     0.86099,     0.85022,     0.85022,     0.85022,     0.84716,     0.84716,     0.84716,     0.84188,     0.84188,     0.84188,     0.84188,     0.84188,     0.84188,     0.84188,     0.84188,     0.84188,     0.83264,\n",
       "            0.83264,     0.83264,     0.83264,     0.83264,     0.83264,     0.82716,     0.82716,     0.82716,     0.82716,     0.82716,     0.82716,     0.81781,     0.81781,     0.81781,     0.81673,     0.81673,     0.81673,     0.81673,     0.81673,     0.81673,     0.81673,     0.81673,     0.81673,\n",
       "            0.79231,     0.79231,     0.79231,     0.79008,     0.79008,     0.79008,     0.78571,     0.78571,     0.78571,     0.78571,     0.78571,     0.78571,     0.78067,     0.78067,     0.78067,     0.77289,     0.77289,     0.77289,     0.77091,     0.77091,     0.77091,     0.76512,     0.76512,\n",
       "            0.76512,     0.76512,     0.76512,     0.76512,     0.76512,     0.76512,     0.76512,     0.75347,     0.75347,     0.75347,     0.75347,     0.75347,     0.75347,     0.74658,     0.74658,     0.74658,     0.72277,     0.72277,     0.72277,     0.70968,     0.70968,     0.70968,     0.68421,\n",
       "            0.68421,     0.68421,     0.68421,     0.68098,     0.68098,     0.68098,     0.67988,     0.67988,     0.67988,     0.66866,     0.66866,     0.66866,     0.65029,     0.65029,     0.65029,     0.63483,     0.63483,     0.63483,     0.62534,     0.62534,     0.62534,     0.61789,     0.61789,\n",
       "            0.61789,     0.60904,     0.60904,     0.60904,     0.60209,     0.60209,     0.60209,     0.60156,     0.60156,     0.60156,     0.60104,     0.60104,     0.60104,     0.59439,     0.59439,     0.59439,     0.59391,     0.59391,     0.59391,     0.55294,     0.55294,     0.55294,     0.54358,\n",
       "            0.54358,     0.54358,     0.54358,     0.54358,     0.54358,     0.54338,     0.54338,     0.54338,     0.54318,     0.54318,     0.54318,     0.53571,     0.53571,     0.53571,     0.52391,     0.52391,     0.52391,     0.49098,     0.49098,     0.49098,     0.49098,     0.49098,     0.49098,\n",
       "            0.49098,     0.49098,     0.49098,     0.49098,     0.49098,     0.49098,     0.48728,     0.48728,     0.48728,     0.48728,     0.48728,     0.48728,     0.48728,     0.48728,     0.48728,     0.48728,     0.48728,     0.48728,     0.48544,     0.48544,     0.48544,     0.46654,     0.46654,\n",
       "            0.46654,     0.46069,     0.46069,     0.46069,     0.45917,     0.45917,     0.45917,     0.45196,     0.45196,     0.45196,     0.44894,     0.44894,     0.44894,     0.44367,     0.44367,     0.44367,      0.4431,      0.4431,      0.4431,      0.4431,     0.42857,     0.42857,     0.42857,\n",
       "            0.42669,     0.42669,     0.42669,     0.41827,     0.41827,     0.41827,     0.41827,     0.41827,     0.41827,     0.40874,     0.40874,     0.40874,     0.40586,     0.40586,     0.40586,     0.40429,     0.40429,     0.40429,     0.40091,     0.40091,     0.40091,     0.39175,     0.39175,\n",
       "            0.39175,     0.38528,     0.38528,     0.38528,     0.37274,     0.37274,     0.37274,     0.37037,     0.37037,     0.37037,     0.37037,     0.37037,     0.37037,     0.36821,     0.36821,     0.36821,     0.35979,     0.35979,     0.35979,     0.34866,     0.34866,     0.34866,     0.34684,\n",
       "            0.34684,     0.34684,     0.34247,     0.34247,     0.34247,     0.33293,     0.33293,     0.33293,     0.29312,     0.29312,     0.29312,     0.28484,     0.28484,     0.28484,     0.27928,     0.27928,     0.27928,      0.2775,      0.2775,      0.2775,     0.27685,     0.27685,     0.27685,\n",
       "            0.25967,     0.25967,     0.25967,     0.25936,     0.25936,     0.25936,     0.25936,     0.25936,     0.25936,     0.25862,     0.25862,     0.25862,     0.24783,     0.24783,     0.24783,     0.21087,     0.21087,     0.21087,     0.20455,     0.20455,     0.20455,      0.2041,      0.2041,\n",
       "             0.2041,     0.20167,     0.20167,     0.20167,     0.20097,     0.20097,     0.20097,     0.19877,     0.19877,     0.19877,     0.18568,     0.18568,     0.18568,     0.18171,     0.18171,     0.18171,     0.18171,     0.16536,     0.16536,     0.16536,     0.16193,     0.16193,     0.16193,\n",
       "            0.15173,     0.15173,     0.15173,     0.15173,     0.15173,     0.15173,     0.13108,     0.13108,     0.13108,     0.12909,     0.12909,     0.12909,     0.11223,     0.11223,     0.11223,     0.10638,     0.10638,     0.10638,     0.10363,     0.10363,     0.10363,    0.091926,    0.091926,\n",
       "           0.091926,    0.078225,    0.078225,    0.078225,    0.077136,    0.077136,    0.077136,    0.075337,    0.075337,    0.075337,    0.074885,    0.074885,    0.074885,    0.062513,    0.062513,    0.062513,    0.053838,    0.053838,    0.053838,    0.042411,    0.042411,    0.042411,     0.04042,\n",
       "            0.04042,     0.04042,    0.022838,    0.022838,    0.022838,    0.013559,    0.013559,    0.013559,    0.011885,    0.011885,    0.011885,   0.0092195,   0.0092195,   0.0092195,   0.0080053,   0.0078147,   0.0076241,   0.0074335,   0.0072429,   0.0070523,   0.0068617,   0.0066711,   0.0064805,\n",
       "          0.0062899,   0.0060993,   0.0059087,   0.0057181,   0.0055275,   0.0053369,   0.0051463,   0.0049557,   0.0047651,   0.0045745,   0.0043839,   0.0041933,   0.0040027,   0.0038121,   0.0036215,   0.0034309,   0.0032403,   0.0030497,   0.0028591,   0.0026684,   0.0024778,   0.0022872,   0.0020966,\n",
       "           0.001906,   0.0017154,   0.0015248,   0.0013342,   0.0011436,  0.00095302,  0.00076241,  0.00057181,  0.00038121,   0.0001906,           0]]), 'Recall', 'Precision'], [array([          0,    0.001001,    0.002002,    0.003003,    0.004004,    0.005005,    0.006006,    0.007007,    0.008008,    0.009009,     0.01001,    0.011011,    0.012012,    0.013013,    0.014014,    0.015015,    0.016016,    0.017017,    0.018018,    0.019019,     0.02002,    0.021021,    0.022022,    0.023023,\n",
       "          0.024024,    0.025025,    0.026026,    0.027027,    0.028028,    0.029029,     0.03003,    0.031031,    0.032032,    0.033033,    0.034034,    0.035035,    0.036036,    0.037037,    0.038038,    0.039039,     0.04004,    0.041041,    0.042042,    0.043043,    0.044044,    0.045045,    0.046046,    0.047047,\n",
       "          0.048048,    0.049049,     0.05005,    0.051051,    0.052052,    0.053053,    0.054054,    0.055055,    0.056056,    0.057057,    0.058058,    0.059059,     0.06006,    0.061061,    0.062062,    0.063063,    0.064064,    0.065065,    0.066066,    0.067067,    0.068068,    0.069069,     0.07007,    0.071071,\n",
       "          0.072072,    0.073073,    0.074074,    0.075075,    0.076076,    0.077077,    0.078078,    0.079079,     0.08008,    0.081081,    0.082082,    0.083083,    0.084084,    0.085085,    0.086086,    0.087087,    0.088088,    0.089089,     0.09009,    0.091091,    0.092092,    0.093093,    0.094094,    0.095095,\n",
       "          0.096096,    0.097097,    0.098098,    0.099099,      0.1001,      0.1011,      0.1021,      0.1031,      0.1041,     0.10511,     0.10611,     0.10711,     0.10811,     0.10911,     0.11011,     0.11111,     0.11211,     0.11311,     0.11411,     0.11512,     0.11612,     0.11712,     0.11812,     0.11912,\n",
       "           0.12012,     0.12112,     0.12212,     0.12312,     0.12412,     0.12513,     0.12613,     0.12713,     0.12813,     0.12913,     0.13013,     0.13113,     0.13213,     0.13313,     0.13413,     0.13514,     0.13614,     0.13714,     0.13814,     0.13914,     0.14014,     0.14114,     0.14214,     0.14314,\n",
       "           0.14414,     0.14515,     0.14615,     0.14715,     0.14815,     0.14915,     0.15015,     0.15115,     0.15215,     0.15315,     0.15415,     0.15516,     0.15616,     0.15716,     0.15816,     0.15916,     0.16016,     0.16116,     0.16216,     0.16316,     0.16416,     0.16517,     0.16617,     0.16717,\n",
       "           0.16817,     0.16917,     0.17017,     0.17117,     0.17217,     0.17317,     0.17417,     0.17518,     0.17618,     0.17718,     0.17818,     0.17918,     0.18018,     0.18118,     0.18218,     0.18318,     0.18418,     0.18519,     0.18619,     0.18719,     0.18819,     0.18919,     0.19019,     0.19119,\n",
       "           0.19219,     0.19319,     0.19419,      0.1952,      0.1962,      0.1972,      0.1982,      0.1992,      0.2002,      0.2012,      0.2022,      0.2032,      0.2042,     0.20521,     0.20621,     0.20721,     0.20821,     0.20921,     0.21021,     0.21121,     0.21221,     0.21321,     0.21421,     0.21522,\n",
       "           0.21622,     0.21722,     0.21822,     0.21922,     0.22022,     0.22122,     0.22222,     0.22322,     0.22422,     0.22523,     0.22623,     0.22723,     0.22823,     0.22923,     0.23023,     0.23123,     0.23223,     0.23323,     0.23423,     0.23524,     0.23624,     0.23724,     0.23824,     0.23924,\n",
       "           0.24024,     0.24124,     0.24224,     0.24324,     0.24424,     0.24525,     0.24625,     0.24725,     0.24825,     0.24925,     0.25025,     0.25125,     0.25225,     0.25325,     0.25425,     0.25526,     0.25626,     0.25726,     0.25826,     0.25926,     0.26026,     0.26126,     0.26226,     0.26326,\n",
       "           0.26426,     0.26527,     0.26627,     0.26727,     0.26827,     0.26927,     0.27027,     0.27127,     0.27227,     0.27327,     0.27427,     0.27528,     0.27628,     0.27728,     0.27828,     0.27928,     0.28028,     0.28128,     0.28228,     0.28328,     0.28428,     0.28529,     0.28629,     0.28729,\n",
       "           0.28829,     0.28929,     0.29029,     0.29129,     0.29229,     0.29329,     0.29429,      0.2953,      0.2963,      0.2973,      0.2983,      0.2993,      0.3003,      0.3013,      0.3023,      0.3033,      0.3043,     0.30531,     0.30631,     0.30731,     0.30831,     0.30931,     0.31031,     0.31131,\n",
       "           0.31231,     0.31331,     0.31431,     0.31532,     0.31632,     0.31732,     0.31832,     0.31932,     0.32032,     0.32132,     0.32232,     0.32332,     0.32432,     0.32533,     0.32633,     0.32733,     0.32833,     0.32933,     0.33033,     0.33133,     0.33233,     0.33333,     0.33433,     0.33534,\n",
       "           0.33634,     0.33734,     0.33834,     0.33934,     0.34034,     0.34134,     0.34234,     0.34334,     0.34434,     0.34535,     0.34635,     0.34735,     0.34835,     0.34935,     0.35035,     0.35135,     0.35235,     0.35335,     0.35435,     0.35536,     0.35636,     0.35736,     0.35836,     0.35936,\n",
       "           0.36036,     0.36136,     0.36236,     0.36336,     0.36436,     0.36537,     0.36637,     0.36737,     0.36837,     0.36937,     0.37037,     0.37137,     0.37237,     0.37337,     0.37437,     0.37538,     0.37638,     0.37738,     0.37838,     0.37938,     0.38038,     0.38138,     0.38238,     0.38338,\n",
       "           0.38438,     0.38539,     0.38639,     0.38739,     0.38839,     0.38939,     0.39039,     0.39139,     0.39239,     0.39339,     0.39439,      0.3954,      0.3964,      0.3974,      0.3984,      0.3994,      0.4004,      0.4014,      0.4024,      0.4034,      0.4044,     0.40541,     0.40641,     0.40741,\n",
       "           0.40841,     0.40941,     0.41041,     0.41141,     0.41241,     0.41341,     0.41441,     0.41542,     0.41642,     0.41742,     0.41842,     0.41942,     0.42042,     0.42142,     0.42242,     0.42342,     0.42442,     0.42543,     0.42643,     0.42743,     0.42843,     0.42943,     0.43043,     0.43143,\n",
       "           0.43243,     0.43343,     0.43443,     0.43544,     0.43644,     0.43744,     0.43844,     0.43944,     0.44044,     0.44144,     0.44244,     0.44344,     0.44444,     0.44545,     0.44645,     0.44745,     0.44845,     0.44945,     0.45045,     0.45145,     0.45245,     0.45345,     0.45445,     0.45546,\n",
       "           0.45646,     0.45746,     0.45846,     0.45946,     0.46046,     0.46146,     0.46246,     0.46346,     0.46446,     0.46547,     0.46647,     0.46747,     0.46847,     0.46947,     0.47047,     0.47147,     0.47247,     0.47347,     0.47447,     0.47548,     0.47648,     0.47748,     0.47848,     0.47948,\n",
       "           0.48048,     0.48148,     0.48248,     0.48348,     0.48448,     0.48549,     0.48649,     0.48749,     0.48849,     0.48949,     0.49049,     0.49149,     0.49249,     0.49349,     0.49449,      0.4955,      0.4965,      0.4975,      0.4985,      0.4995,      0.5005,      0.5015,      0.5025,      0.5035,\n",
       "            0.5045,     0.50551,     0.50651,     0.50751,     0.50851,     0.50951,     0.51051,     0.51151,     0.51251,     0.51351,     0.51451,     0.51552,     0.51652,     0.51752,     0.51852,     0.51952,     0.52052,     0.52152,     0.52252,     0.52352,     0.52452,     0.52553,     0.52653,     0.52753,\n",
       "           0.52853,     0.52953,     0.53053,     0.53153,     0.53253,     0.53353,     0.53453,     0.53554,     0.53654,     0.53754,     0.53854,     0.53954,     0.54054,     0.54154,     0.54254,     0.54354,     0.54454,     0.54555,     0.54655,     0.54755,     0.54855,     0.54955,     0.55055,     0.55155,\n",
       "           0.55255,     0.55355,     0.55455,     0.55556,     0.55656,     0.55756,     0.55856,     0.55956,     0.56056,     0.56156,     0.56256,     0.56356,     0.56456,     0.56557,     0.56657,     0.56757,     0.56857,     0.56957,     0.57057,     0.57157,     0.57257,     0.57357,     0.57457,     0.57558,\n",
       "           0.57658,     0.57758,     0.57858,     0.57958,     0.58058,     0.58158,     0.58258,     0.58358,     0.58458,     0.58559,     0.58659,     0.58759,     0.58859,     0.58959,     0.59059,     0.59159,     0.59259,     0.59359,     0.59459,      0.5956,      0.5966,      0.5976,      0.5986,      0.5996,\n",
       "            0.6006,      0.6016,      0.6026,      0.6036,      0.6046,     0.60561,     0.60661,     0.60761,     0.60861,     0.60961,     0.61061,     0.61161,     0.61261,     0.61361,     0.61461,     0.61562,     0.61662,     0.61762,     0.61862,     0.61962,     0.62062,     0.62162,     0.62262,     0.62362,\n",
       "           0.62462,     0.62563,     0.62663,     0.62763,     0.62863,     0.62963,     0.63063,     0.63163,     0.63263,     0.63363,     0.63463,     0.63564,     0.63664,     0.63764,     0.63864,     0.63964,     0.64064,     0.64164,     0.64264,     0.64364,     0.64464,     0.64565,     0.64665,     0.64765,\n",
       "           0.64865,     0.64965,     0.65065,     0.65165,     0.65265,     0.65365,     0.65465,     0.65566,     0.65666,     0.65766,     0.65866,     0.65966,     0.66066,     0.66166,     0.66266,     0.66366,     0.66466,     0.66567,     0.66667,     0.66767,     0.66867,     0.66967,     0.67067,     0.67167,\n",
       "           0.67267,     0.67367,     0.67467,     0.67568,     0.67668,     0.67768,     0.67868,     0.67968,     0.68068,     0.68168,     0.68268,     0.68368,     0.68468,     0.68569,     0.68669,     0.68769,     0.68869,     0.68969,     0.69069,     0.69169,     0.69269,     0.69369,     0.69469,      0.6957,\n",
       "            0.6967,      0.6977,      0.6987,      0.6997,      0.7007,      0.7017,      0.7027,      0.7037,      0.7047,     0.70571,     0.70671,     0.70771,     0.70871,     0.70971,     0.71071,     0.71171,     0.71271,     0.71371,     0.71471,     0.71572,     0.71672,     0.71772,     0.71872,     0.71972,\n",
       "           0.72072,     0.72172,     0.72272,     0.72372,     0.72472,     0.72573,     0.72673,     0.72773,     0.72873,     0.72973,     0.73073,     0.73173,     0.73273,     0.73373,     0.73473,     0.73574,     0.73674,     0.73774,     0.73874,     0.73974,     0.74074,     0.74174,     0.74274,     0.74374,\n",
       "           0.74474,     0.74575,     0.74675,     0.74775,     0.74875,     0.74975,     0.75075,     0.75175,     0.75275,     0.75375,     0.75475,     0.75576,     0.75676,     0.75776,     0.75876,     0.75976,     0.76076,     0.76176,     0.76276,     0.76376,     0.76476,     0.76577,     0.76677,     0.76777,\n",
       "           0.76877,     0.76977,     0.77077,     0.77177,     0.77277,     0.77377,     0.77477,     0.77578,     0.77678,     0.77778,     0.77878,     0.77978,     0.78078,     0.78178,     0.78278,     0.78378,     0.78478,     0.78579,     0.78679,     0.78779,     0.78879,     0.78979,     0.79079,     0.79179,\n",
       "           0.79279,     0.79379,     0.79479,      0.7958,      0.7968,      0.7978,      0.7988,      0.7998,      0.8008,      0.8018,      0.8028,      0.8038,      0.8048,     0.80581,     0.80681,     0.80781,     0.80881,     0.80981,     0.81081,     0.81181,     0.81281,     0.81381,     0.81481,     0.81582,\n",
       "           0.81682,     0.81782,     0.81882,     0.81982,     0.82082,     0.82182,     0.82282,     0.82382,     0.82482,     0.82583,     0.82683,     0.82783,     0.82883,     0.82983,     0.83083,     0.83183,     0.83283,     0.83383,     0.83483,     0.83584,     0.83684,     0.83784,     0.83884,     0.83984,\n",
       "           0.84084,     0.84184,     0.84284,     0.84384,     0.84484,     0.84585,     0.84685,     0.84785,     0.84885,     0.84985,     0.85085,     0.85185,     0.85285,     0.85385,     0.85485,     0.85586,     0.85686,     0.85786,     0.85886,     0.85986,     0.86086,     0.86186,     0.86286,     0.86386,\n",
       "           0.86486,     0.86587,     0.86687,     0.86787,     0.86887,     0.86987,     0.87087,     0.87187,     0.87287,     0.87387,     0.87487,     0.87588,     0.87688,     0.87788,     0.87888,     0.87988,     0.88088,     0.88188,     0.88288,     0.88388,     0.88488,     0.88589,     0.88689,     0.88789,\n",
       "           0.88889,     0.88989,     0.89089,     0.89189,     0.89289,     0.89389,     0.89489,      0.8959,      0.8969,      0.8979,      0.8989,      0.8999,      0.9009,      0.9019,      0.9029,      0.9039,      0.9049,     0.90591,     0.90691,     0.90791,     0.90891,     0.90991,     0.91091,     0.91191,\n",
       "           0.91291,     0.91391,     0.91491,     0.91592,     0.91692,     0.91792,     0.91892,     0.91992,     0.92092,     0.92192,     0.92292,     0.92392,     0.92492,     0.92593,     0.92693,     0.92793,     0.92893,     0.92993,     0.93093,     0.93193,     0.93293,     0.93393,     0.93493,     0.93594,\n",
       "           0.93694,     0.93794,     0.93894,     0.93994,     0.94094,     0.94194,     0.94294,     0.94394,     0.94494,     0.94595,     0.94695,     0.94795,     0.94895,     0.94995,     0.95095,     0.95195,     0.95295,     0.95395,     0.95495,     0.95596,     0.95696,     0.95796,     0.95896,     0.95996,\n",
       "           0.96096,     0.96196,     0.96296,     0.96396,     0.96496,     0.96597,     0.96697,     0.96797,     0.96897,     0.96997,     0.97097,     0.97197,     0.97297,     0.97397,     0.97497,     0.97598,     0.97698,     0.97798,     0.97898,     0.97998,     0.98098,     0.98198,     0.98298,     0.98398,\n",
       "           0.98498,     0.98599,     0.98699,     0.98799,     0.98899,     0.98999,     0.99099,     0.99199,     0.99299,     0.99399,     0.99499,       0.996,       0.997,       0.998,       0.999,           1]), array([[   0.016021,    0.016024,    0.019843,    0.032104,    0.077322,     0.11719,     0.14075,     0.16041,     0.17664,     0.19072,      0.2042,     0.21839,     0.22881,     0.24068,     0.25118,     0.26088,     0.27049,     0.27862,     0.28655,     0.29548,     0.30318,       0.311,     0.32006,\n",
       "            0.32728,     0.33047,     0.33776,     0.34355,     0.35036,     0.35727,     0.36327,     0.37168,     0.37768,     0.38379,     0.38717,     0.39283,     0.39736,     0.39841,     0.40392,      0.4088,     0.41364,     0.41786,     0.42022,     0.42434,     0.42835,     0.43287,     0.43469,\n",
       "            0.43847,     0.44301,     0.44581,     0.44996,     0.45553,     0.45991,     0.46602,     0.46928,      0.4711,     0.47388,     0.47617,     0.47879,      0.4814,     0.48409,     0.48541,     0.48769,     0.48865,     0.48985,     0.49246,     0.49525,     0.49857,     0.50123,     0.50441,\n",
       "            0.50711,     0.50916,     0.51032,     0.51173,     0.51711,     0.52085,     0.52485,      0.5266,     0.52969,     0.53209,     0.53454,     0.53512,     0.53584,      0.5376,     0.53666,     0.53815,     0.53914,     0.54025,     0.54186,     0.54492,     0.54648,     0.54491,     0.54867,\n",
       "            0.54967,     0.55159,     0.55296,     0.55365,     0.55672,     0.55882,     0.55939,     0.56046,     0.56181,      0.5628,     0.56414,     0.56551,     0.56763,      0.5672,     0.56911,     0.56891,     0.57042,     0.57147,     0.57282,     0.57419,     0.57479,     0.57691,     0.57756,\n",
       "             0.5777,     0.58078,     0.58394,     0.58618,     0.58775,     0.58963,     0.59082,     0.58931,     0.58938,     0.58839,     0.58905,     0.58963,     0.59015,     0.58938,     0.58836,     0.58728,     0.58607,     0.58547,     0.58821,     0.58904,     0.59125,     0.59293,     0.59412,\n",
       "            0.59498,     0.59538,     0.59574,     0.59791,     0.59919,     0.60054,     0.60134,     0.60298,     0.60468,     0.60603,     0.60839,      0.6093,     0.60938,     0.60989,      0.6126,     0.61386,     0.61579,     0.61535,     0.61728,     0.62063,     0.61865,      0.6156,     0.61705,\n",
       "            0.61746,     0.61837,     0.61932,     0.61982,     0.62057,     0.62205,     0.62075,     0.62324,     0.62393,     0.62568,     0.62732,     0.62805,     0.62847,     0.62882,      0.6294,     0.63104,     0.63189,     0.63268,     0.63325,     0.63532,     0.63685,     0.63738,     0.63809,\n",
       "            0.64048,     0.64144,     0.64202,     0.64553,     0.64612,     0.64499,     0.64455,     0.64578,     0.64795,     0.64723,     0.64651,     0.64633,     0.64668,     0.64702,     0.64602,     0.64639,     0.64675,     0.64853,     0.64708,     0.64757,     0.64792,     0.64819,     0.64847,\n",
       "            0.64903,     0.64998,     0.65132,     0.65171,     0.65094,     0.65225,     0.65333,     0.65482,     0.65338,     0.65587,     0.65705,     0.65745,     0.65785,     0.65887,     0.65805,     0.65719,     0.65785,     0.65868,     0.65969,      0.6605,     0.66195,     0.66267,     0.66351,\n",
       "            0.66524,     0.66379,     0.66408,     0.66436,     0.66465,     0.66478,     0.66488,     0.66498,     0.66508,     0.66518,     0.66528,     0.66538,     0.66549,     0.66559,     0.66577,     0.66659,     0.66878,     0.66994,     0.67067,     0.67105,     0.67143,     0.67201,     0.67293,\n",
       "            0.67349,       0.672,     0.67328,     0.67591,     0.67617,     0.67643,     0.67669,      0.6763,     0.67581,       0.676,     0.67617,     0.67634,     0.67651,     0.67668,     0.67684,       0.676,     0.67616,     0.67633,     0.67649,     0.67665,     0.67681,     0.67709,     0.67766,\n",
       "             0.6786,     0.67993,     0.68137,     0.68266,     0.68437,     0.68472,     0.68508,     0.68546,     0.68596,     0.68644,     0.68676,     0.68709,     0.68741,     0.68688,       0.686,      0.6867,     0.68773,     0.68875,     0.68955,     0.68988,     0.69004,      0.6902,     0.69036,\n",
       "            0.69052,     0.69068,     0.69084,     0.69123,     0.69163,     0.69065,     0.69329,     0.69354,     0.69379,     0.69403,      0.6943,     0.69505,     0.69574,     0.69639,     0.69985,      0.7001,     0.70036,     0.70061,     0.70087,     0.70009,     0.69954,     0.70116,     0.70226,\n",
       "              0.701,     0.69999,     0.69949,       0.699,      0.6985,     0.69816,     0.69918,     0.69993,     0.70193,     0.70277,     0.70307,     0.70336,     0.70366,      0.7033,      0.7026,     0.70189,     0.70119,      0.7005,      0.6998,     0.69899,     0.69808,     0.69751,     0.69819,\n",
       "            0.69885,     0.69948,     0.70013,     0.70078,     0.69916,     0.69972,     0.69833,     0.69805,     0.69863,     0.70006,     0.70111,     0.69979,     0.69925,     0.69979,     0.70078,     0.70029,     0.69898,     0.69824,      0.6975,      0.6983,     0.69914,     0.69825,     0.69717,\n",
       "            0.69741,     0.69765,     0.69789,     0.69814,     0.69614,     0.69654,     0.69695,     0.69743,     0.69827,     0.70008,     0.70098,     0.70142,     0.70186,      0.7026,      0.7037,     0.70456,     0.70476,     0.70497,     0.70517,     0.70538,     0.70558,     0.70553,     0.70524,\n",
       "            0.70495,     0.70466,     0.70436,     0.70407,     0.70378,     0.70349,     0.70035,     0.69933,      0.6991,      0.6993,     0.69951,     0.69972,     0.69993,     0.70014,     0.69906,     0.69951,     0.69991,      0.7003,     0.70053,     0.70073,     0.70094,     0.70114,     0.70135,\n",
       "            0.70155,     0.70022,     0.69879,     0.69747,     0.69831,     0.69843,     0.69855,     0.69868,      0.6988,     0.69893,     0.69905,     0.69918,      0.6993,     0.69942,     0.69905,     0.69834,     0.69763,     0.69693,     0.69621,      0.6955,     0.69575,     0.69683,     0.69739,\n",
       "            0.69753,     0.69767,     0.69782,     0.69796,      0.6981,     0.69824,     0.69838,     0.69852,     0.69501,     0.69176,     0.69182,     0.69204,     0.69225,     0.69246,     0.69267,     0.69307,     0.69352,     0.69208,     0.69263,     0.69187,      0.6911,      0.6919,     0.69222,\n",
       "            0.69254,     0.69286,     0.69321,     0.69389,     0.69421,     0.69349,     0.69276,     0.69204,     0.68989,     0.69023,     0.69057,     0.69091,     0.68832,     0.68701,     0.68625,     0.68661,     0.68697,     0.68733,     0.68711,     0.68678,     0.68645,     0.68612,     0.68579,\n",
       "            0.68546,     0.68513,     0.68625,     0.68693,     0.68676,     0.68454,     0.68367,      0.6828,     0.68292,     0.68324,     0.68355,     0.68387,      0.6827,     0.68259,     0.68247,     0.68236,     0.68224,     0.68212,     0.68201,     0.68189,     0.68178,     0.68166,     0.68155,\n",
       "            0.68143,     0.68132,      0.6812,     0.68109,     0.68097,     0.68086,     0.68074,     0.68062,     0.68051,     0.68039,     0.67917,     0.67649,     0.67299,      0.6696,     0.66818,     0.66856,     0.66921,     0.66937,     0.66954,      0.6697,     0.66987,     0.67003,     0.67019,\n",
       "            0.67036,     0.67013,     0.66957,     0.66902,     0.66846,     0.66769,     0.66601,      0.6665,     0.66607,     0.66563,     0.66519,     0.66476,     0.66432,     0.66431,     0.66462,     0.66492,     0.66522,     0.66229,     0.66019,     0.65953,     0.65887,     0.65821,     0.65662,\n",
       "             0.6549,     0.65445,     0.65401,     0.65356,     0.65312,     0.65267,     0.65322,     0.65366,     0.65264,     0.65161,     0.65225,     0.65315,     0.65367,     0.65316,     0.65265,     0.65214,     0.65162,     0.65109,     0.65045,      0.6498,     0.64915,     0.64852,      0.6482,\n",
       "            0.64787,     0.64755,     0.64722,      0.6469,     0.64657,     0.64624,     0.64592,     0.64291,     0.64219,     0.64146,     0.64074,     0.63986,     0.63895,     0.63804,     0.63723,     0.63643,     0.63563,     0.63498,     0.63445,     0.63392,     0.63339,     0.63285,     0.63112,\n",
       "            0.63006,      0.6303,     0.63054,     0.63078,     0.63103,     0.63241,     0.63109,     0.62976,      0.6289,     0.62806,     0.62722,     0.62559,     0.62411,     0.62364,     0.62317,     0.62271,     0.62224,     0.62177,     0.61872,     0.61809,     0.61745,     0.61682,     0.61618,\n",
       "             0.6162,     0.61647,     0.61674,     0.61702,     0.61703,     0.61597,     0.61491,     0.61469,     0.61511,     0.61552,     0.61271,     0.61203,     0.61134,     0.61065,     0.60973,     0.60785,     0.60338,      0.6017,     0.60224,     0.60277,     0.60039,     0.60096,     0.60036,\n",
       "            0.59871,     0.59956,       0.599,     0.59843,     0.59786,     0.59729,     0.59671,     0.59614,     0.59556,     0.59499,     0.59441,     0.59384,     0.59104,     0.59165,     0.59147,     0.58869,     0.58692,     0.58483,     0.58236,     0.58064,     0.58152,      0.5784,     0.57806,\n",
       "            0.57771,     0.57737,     0.57702,     0.57668,     0.57633,     0.57599,     0.57564,     0.57525,     0.57486,     0.57447,     0.57408,     0.57368,     0.57329,      0.5729,      0.5698,     0.56583,     0.56419,     0.56343,     0.56267,     0.56191,     0.55831,     0.55702,     0.55573,\n",
       "            0.55188,     0.54922,     0.54855,     0.54789,     0.54722,     0.54655,     0.54502,     0.54427,     0.54376,     0.54324,     0.54273,     0.54221,     0.54169,     0.54117,     0.54167,     0.54226,     0.54185,     0.54137,     0.54088,      0.5404,     0.53991,     0.53943,     0.53871,\n",
       "            0.53761,     0.53651,     0.53404,     0.53121,     0.52909,     0.52745,     0.52615,     0.52563,      0.5251,     0.52458,     0.52405,     0.52353,     0.52268,     0.51986,     0.51835,     0.51685,     0.51432,     0.51168,     0.50977,     0.50915,     0.50853,     0.50791,     0.50729,\n",
       "            0.50667,      0.4998,     0.49709,     0.49425,     0.48937,     0.48852,     0.48767,     0.48682,     0.48278,     0.48177,     0.48077,     0.47976,     0.47419,     0.47141,     0.46931,     0.46603,     0.46637,      0.4667,     0.46561,     0.46374,     0.46267,     0.46185,     0.46103,\n",
       "            0.46021,     0.45817,     0.44691,     0.44438,     0.44307,     0.43818,      0.4372,     0.43622,     0.43524,     0.43045,     0.42829,      0.4234,     0.42254,     0.42168,     0.42081,     0.41995,     0.41726,     0.41173,     0.40832,     0.40741,     0.40651,      0.4056,     0.40455,\n",
       "            0.40178,     0.40029,     0.39934,     0.39838,     0.39743,     0.39282,     0.39179,     0.39076,     0.38973,     0.38832,     0.38675,     0.38317,     0.37509,     0.36834,     0.36182,     0.35958,     0.35644,     0.34499,     0.33935,     0.33306,     0.33255,     0.33203,     0.33151,\n",
       "              0.331,     0.33048,     0.32997,     0.32945,     0.32696,     0.32406,     0.32244,     0.32082,     0.31891,       0.317,     0.31438,     0.30788,      0.3063,     0.30471,     0.30274,     0.30026,     0.29683,     0.29311,     0.28532,     0.28185,     0.28003,     0.27821,     0.27649,\n",
       "             0.2748,     0.27253,     0.26473,     0.25872,     0.25634,     0.25454,     0.25327,       0.252,     0.25072,     0.24543,      0.2399,     0.23647,     0.23097,     0.22945,     0.22792,     0.22571,     0.22324,     0.22106,     0.21894,     0.21738,     0.21619,     0.21501,     0.21382,\n",
       "            0.21059,     0.20223,     0.19418,     0.19114,     0.18741,     0.18434,     0.18448,     0.18462,     0.18475,     0.17328,     0.16493,     0.16525,     0.16415,     0.16285,     0.16155,     0.16025,     0.15712,     0.15361,     0.14982,     0.14825,     0.14667,     0.14509,     0.14489,\n",
       "            0.14495,       0.145,     0.14505,     0.14511,     0.14516,     0.14521,     0.14515,     0.14458,       0.144,     0.14342,     0.14285,     0.14227,     0.14169,     0.14111,     0.14054,     0.13986,     0.13873,     0.13759,     0.13645,     0.13532,     0.12794,     0.11821,     0.11585,\n",
       "            0.11057,     0.10803,     0.10742,     0.10681,      0.1062,     0.10559,     0.10498,     0.10437,     0.10375,     0.10313,       0.102,     0.10088,     0.09975,     0.09862,     0.09725,    0.094833,    0.092411,    0.082351,    0.080174,     0.07897,    0.077765,    0.076558,    0.075146,\n",
       "           0.072872,    0.070594,     0.06411,    0.061444,    0.058771,    0.056727,    0.054708,    0.052483,     0.04884,    0.046761,    0.045966,    0.045172,    0.044376,     0.04358,    0.042784,    0.041987,    0.039399,    0.035052,    0.033837,    0.032622,    0.031405,    0.030186,    0.029815,\n",
       "           0.029475,    0.028662,    0.027849,    0.027036,    0.026222,    0.025407,    0.024591,    0.022775,     0.01783,     0.01632,    0.014809,    0.013295,     0.01126,   0.0068146,           0,           0,           0,           0,           0,           0,           0,           0,           0,\n",
       "                  0,           0,           0,           0,           0,           0,           0,           0,           0,           0,           0,           0,           0,           0,           0,           0,           0,           0,           0,           0,           0,           0,           0,\n",
       "                  0,           0,           0,           0,           0,           0,           0,           0,           0,           0,           0]]), 'Confidence', 'F1'], [array([          0,    0.001001,    0.002002,    0.003003,    0.004004,    0.005005,    0.006006,    0.007007,    0.008008,    0.009009,     0.01001,    0.011011,    0.012012,    0.013013,    0.014014,    0.015015,    0.016016,    0.017017,    0.018018,    0.019019,     0.02002,    0.021021,    0.022022,    0.023023,\n",
       "          0.024024,    0.025025,    0.026026,    0.027027,    0.028028,    0.029029,     0.03003,    0.031031,    0.032032,    0.033033,    0.034034,    0.035035,    0.036036,    0.037037,    0.038038,    0.039039,     0.04004,    0.041041,    0.042042,    0.043043,    0.044044,    0.045045,    0.046046,    0.047047,\n",
       "          0.048048,    0.049049,     0.05005,    0.051051,    0.052052,    0.053053,    0.054054,    0.055055,    0.056056,    0.057057,    0.058058,    0.059059,     0.06006,    0.061061,    0.062062,    0.063063,    0.064064,    0.065065,    0.066066,    0.067067,    0.068068,    0.069069,     0.07007,    0.071071,\n",
       "          0.072072,    0.073073,    0.074074,    0.075075,    0.076076,    0.077077,    0.078078,    0.079079,     0.08008,    0.081081,    0.082082,    0.083083,    0.084084,    0.085085,    0.086086,    0.087087,    0.088088,    0.089089,     0.09009,    0.091091,    0.092092,    0.093093,    0.094094,    0.095095,\n",
       "          0.096096,    0.097097,    0.098098,    0.099099,      0.1001,      0.1011,      0.1021,      0.1031,      0.1041,     0.10511,     0.10611,     0.10711,     0.10811,     0.10911,     0.11011,     0.11111,     0.11211,     0.11311,     0.11411,     0.11512,     0.11612,     0.11712,     0.11812,     0.11912,\n",
       "           0.12012,     0.12112,     0.12212,     0.12312,     0.12412,     0.12513,     0.12613,     0.12713,     0.12813,     0.12913,     0.13013,     0.13113,     0.13213,     0.13313,     0.13413,     0.13514,     0.13614,     0.13714,     0.13814,     0.13914,     0.14014,     0.14114,     0.14214,     0.14314,\n",
       "           0.14414,     0.14515,     0.14615,     0.14715,     0.14815,     0.14915,     0.15015,     0.15115,     0.15215,     0.15315,     0.15415,     0.15516,     0.15616,     0.15716,     0.15816,     0.15916,     0.16016,     0.16116,     0.16216,     0.16316,     0.16416,     0.16517,     0.16617,     0.16717,\n",
       "           0.16817,     0.16917,     0.17017,     0.17117,     0.17217,     0.17317,     0.17417,     0.17518,     0.17618,     0.17718,     0.17818,     0.17918,     0.18018,     0.18118,     0.18218,     0.18318,     0.18418,     0.18519,     0.18619,     0.18719,     0.18819,     0.18919,     0.19019,     0.19119,\n",
       "           0.19219,     0.19319,     0.19419,      0.1952,      0.1962,      0.1972,      0.1982,      0.1992,      0.2002,      0.2012,      0.2022,      0.2032,      0.2042,     0.20521,     0.20621,     0.20721,     0.20821,     0.20921,     0.21021,     0.21121,     0.21221,     0.21321,     0.21421,     0.21522,\n",
       "           0.21622,     0.21722,     0.21822,     0.21922,     0.22022,     0.22122,     0.22222,     0.22322,     0.22422,     0.22523,     0.22623,     0.22723,     0.22823,     0.22923,     0.23023,     0.23123,     0.23223,     0.23323,     0.23423,     0.23524,     0.23624,     0.23724,     0.23824,     0.23924,\n",
       "           0.24024,     0.24124,     0.24224,     0.24324,     0.24424,     0.24525,     0.24625,     0.24725,     0.24825,     0.24925,     0.25025,     0.25125,     0.25225,     0.25325,     0.25425,     0.25526,     0.25626,     0.25726,     0.25826,     0.25926,     0.26026,     0.26126,     0.26226,     0.26326,\n",
       "           0.26426,     0.26527,     0.26627,     0.26727,     0.26827,     0.26927,     0.27027,     0.27127,     0.27227,     0.27327,     0.27427,     0.27528,     0.27628,     0.27728,     0.27828,     0.27928,     0.28028,     0.28128,     0.28228,     0.28328,     0.28428,     0.28529,     0.28629,     0.28729,\n",
       "           0.28829,     0.28929,     0.29029,     0.29129,     0.29229,     0.29329,     0.29429,      0.2953,      0.2963,      0.2973,      0.2983,      0.2993,      0.3003,      0.3013,      0.3023,      0.3033,      0.3043,     0.30531,     0.30631,     0.30731,     0.30831,     0.30931,     0.31031,     0.31131,\n",
       "           0.31231,     0.31331,     0.31431,     0.31532,     0.31632,     0.31732,     0.31832,     0.31932,     0.32032,     0.32132,     0.32232,     0.32332,     0.32432,     0.32533,     0.32633,     0.32733,     0.32833,     0.32933,     0.33033,     0.33133,     0.33233,     0.33333,     0.33433,     0.33534,\n",
       "           0.33634,     0.33734,     0.33834,     0.33934,     0.34034,     0.34134,     0.34234,     0.34334,     0.34434,     0.34535,     0.34635,     0.34735,     0.34835,     0.34935,     0.35035,     0.35135,     0.35235,     0.35335,     0.35435,     0.35536,     0.35636,     0.35736,     0.35836,     0.35936,\n",
       "           0.36036,     0.36136,     0.36236,     0.36336,     0.36436,     0.36537,     0.36637,     0.36737,     0.36837,     0.36937,     0.37037,     0.37137,     0.37237,     0.37337,     0.37437,     0.37538,     0.37638,     0.37738,     0.37838,     0.37938,     0.38038,     0.38138,     0.38238,     0.38338,\n",
       "           0.38438,     0.38539,     0.38639,     0.38739,     0.38839,     0.38939,     0.39039,     0.39139,     0.39239,     0.39339,     0.39439,      0.3954,      0.3964,      0.3974,      0.3984,      0.3994,      0.4004,      0.4014,      0.4024,      0.4034,      0.4044,     0.40541,     0.40641,     0.40741,\n",
       "           0.40841,     0.40941,     0.41041,     0.41141,     0.41241,     0.41341,     0.41441,     0.41542,     0.41642,     0.41742,     0.41842,     0.41942,     0.42042,     0.42142,     0.42242,     0.42342,     0.42442,     0.42543,     0.42643,     0.42743,     0.42843,     0.42943,     0.43043,     0.43143,\n",
       "           0.43243,     0.43343,     0.43443,     0.43544,     0.43644,     0.43744,     0.43844,     0.43944,     0.44044,     0.44144,     0.44244,     0.44344,     0.44444,     0.44545,     0.44645,     0.44745,     0.44845,     0.44945,     0.45045,     0.45145,     0.45245,     0.45345,     0.45445,     0.45546,\n",
       "           0.45646,     0.45746,     0.45846,     0.45946,     0.46046,     0.46146,     0.46246,     0.46346,     0.46446,     0.46547,     0.46647,     0.46747,     0.46847,     0.46947,     0.47047,     0.47147,     0.47247,     0.47347,     0.47447,     0.47548,     0.47648,     0.47748,     0.47848,     0.47948,\n",
       "           0.48048,     0.48148,     0.48248,     0.48348,     0.48448,     0.48549,     0.48649,     0.48749,     0.48849,     0.48949,     0.49049,     0.49149,     0.49249,     0.49349,     0.49449,      0.4955,      0.4965,      0.4975,      0.4985,      0.4995,      0.5005,      0.5015,      0.5025,      0.5035,\n",
       "            0.5045,     0.50551,     0.50651,     0.50751,     0.50851,     0.50951,     0.51051,     0.51151,     0.51251,     0.51351,     0.51451,     0.51552,     0.51652,     0.51752,     0.51852,     0.51952,     0.52052,     0.52152,     0.52252,     0.52352,     0.52452,     0.52553,     0.52653,     0.52753,\n",
       "           0.52853,     0.52953,     0.53053,     0.53153,     0.53253,     0.53353,     0.53453,     0.53554,     0.53654,     0.53754,     0.53854,     0.53954,     0.54054,     0.54154,     0.54254,     0.54354,     0.54454,     0.54555,     0.54655,     0.54755,     0.54855,     0.54955,     0.55055,     0.55155,\n",
       "           0.55255,     0.55355,     0.55455,     0.55556,     0.55656,     0.55756,     0.55856,     0.55956,     0.56056,     0.56156,     0.56256,     0.56356,     0.56456,     0.56557,     0.56657,     0.56757,     0.56857,     0.56957,     0.57057,     0.57157,     0.57257,     0.57357,     0.57457,     0.57558,\n",
       "           0.57658,     0.57758,     0.57858,     0.57958,     0.58058,     0.58158,     0.58258,     0.58358,     0.58458,     0.58559,     0.58659,     0.58759,     0.58859,     0.58959,     0.59059,     0.59159,     0.59259,     0.59359,     0.59459,      0.5956,      0.5966,      0.5976,      0.5986,      0.5996,\n",
       "            0.6006,      0.6016,      0.6026,      0.6036,      0.6046,     0.60561,     0.60661,     0.60761,     0.60861,     0.60961,     0.61061,     0.61161,     0.61261,     0.61361,     0.61461,     0.61562,     0.61662,     0.61762,     0.61862,     0.61962,     0.62062,     0.62162,     0.62262,     0.62362,\n",
       "           0.62462,     0.62563,     0.62663,     0.62763,     0.62863,     0.62963,     0.63063,     0.63163,     0.63263,     0.63363,     0.63463,     0.63564,     0.63664,     0.63764,     0.63864,     0.63964,     0.64064,     0.64164,     0.64264,     0.64364,     0.64464,     0.64565,     0.64665,     0.64765,\n",
       "           0.64865,     0.64965,     0.65065,     0.65165,     0.65265,     0.65365,     0.65465,     0.65566,     0.65666,     0.65766,     0.65866,     0.65966,     0.66066,     0.66166,     0.66266,     0.66366,     0.66466,     0.66567,     0.66667,     0.66767,     0.66867,     0.66967,     0.67067,     0.67167,\n",
       "           0.67267,     0.67367,     0.67467,     0.67568,     0.67668,     0.67768,     0.67868,     0.67968,     0.68068,     0.68168,     0.68268,     0.68368,     0.68468,     0.68569,     0.68669,     0.68769,     0.68869,     0.68969,     0.69069,     0.69169,     0.69269,     0.69369,     0.69469,      0.6957,\n",
       "            0.6967,      0.6977,      0.6987,      0.6997,      0.7007,      0.7017,      0.7027,      0.7037,      0.7047,     0.70571,     0.70671,     0.70771,     0.70871,     0.70971,     0.71071,     0.71171,     0.71271,     0.71371,     0.71471,     0.71572,     0.71672,     0.71772,     0.71872,     0.71972,\n",
       "           0.72072,     0.72172,     0.72272,     0.72372,     0.72472,     0.72573,     0.72673,     0.72773,     0.72873,     0.72973,     0.73073,     0.73173,     0.73273,     0.73373,     0.73473,     0.73574,     0.73674,     0.73774,     0.73874,     0.73974,     0.74074,     0.74174,     0.74274,     0.74374,\n",
       "           0.74474,     0.74575,     0.74675,     0.74775,     0.74875,     0.74975,     0.75075,     0.75175,     0.75275,     0.75375,     0.75475,     0.75576,     0.75676,     0.75776,     0.75876,     0.75976,     0.76076,     0.76176,     0.76276,     0.76376,     0.76476,     0.76577,     0.76677,     0.76777,\n",
       "           0.76877,     0.76977,     0.77077,     0.77177,     0.77277,     0.77377,     0.77477,     0.77578,     0.77678,     0.77778,     0.77878,     0.77978,     0.78078,     0.78178,     0.78278,     0.78378,     0.78478,     0.78579,     0.78679,     0.78779,     0.78879,     0.78979,     0.79079,     0.79179,\n",
       "           0.79279,     0.79379,     0.79479,      0.7958,      0.7968,      0.7978,      0.7988,      0.7998,      0.8008,      0.8018,      0.8028,      0.8038,      0.8048,     0.80581,     0.80681,     0.80781,     0.80881,     0.80981,     0.81081,     0.81181,     0.81281,     0.81381,     0.81481,     0.81582,\n",
       "           0.81682,     0.81782,     0.81882,     0.81982,     0.82082,     0.82182,     0.82282,     0.82382,     0.82482,     0.82583,     0.82683,     0.82783,     0.82883,     0.82983,     0.83083,     0.83183,     0.83283,     0.83383,     0.83483,     0.83584,     0.83684,     0.83784,     0.83884,     0.83984,\n",
       "           0.84084,     0.84184,     0.84284,     0.84384,     0.84484,     0.84585,     0.84685,     0.84785,     0.84885,     0.84985,     0.85085,     0.85185,     0.85285,     0.85385,     0.85485,     0.85586,     0.85686,     0.85786,     0.85886,     0.85986,     0.86086,     0.86186,     0.86286,     0.86386,\n",
       "           0.86486,     0.86587,     0.86687,     0.86787,     0.86887,     0.86987,     0.87087,     0.87187,     0.87287,     0.87387,     0.87487,     0.87588,     0.87688,     0.87788,     0.87888,     0.87988,     0.88088,     0.88188,     0.88288,     0.88388,     0.88488,     0.88589,     0.88689,     0.88789,\n",
       "           0.88889,     0.88989,     0.89089,     0.89189,     0.89289,     0.89389,     0.89489,      0.8959,      0.8969,      0.8979,      0.8989,      0.8999,      0.9009,      0.9019,      0.9029,      0.9039,      0.9049,     0.90591,     0.90691,     0.90791,     0.90891,     0.90991,     0.91091,     0.91191,\n",
       "           0.91291,     0.91391,     0.91491,     0.91592,     0.91692,     0.91792,     0.91892,     0.91992,     0.92092,     0.92192,     0.92292,     0.92392,     0.92492,     0.92593,     0.92693,     0.92793,     0.92893,     0.92993,     0.93093,     0.93193,     0.93293,     0.93393,     0.93493,     0.93594,\n",
       "           0.93694,     0.93794,     0.93894,     0.93994,     0.94094,     0.94194,     0.94294,     0.94394,     0.94494,     0.94595,     0.94695,     0.94795,     0.94895,     0.94995,     0.95095,     0.95195,     0.95295,     0.95395,     0.95495,     0.95596,     0.95696,     0.95796,     0.95896,     0.95996,\n",
       "           0.96096,     0.96196,     0.96296,     0.96396,     0.96496,     0.96597,     0.96697,     0.96797,     0.96897,     0.96997,     0.97097,     0.97197,     0.97297,     0.97397,     0.97497,     0.97598,     0.97698,     0.97798,     0.97898,     0.97998,     0.98098,     0.98198,     0.98298,     0.98398,\n",
       "           0.98498,     0.98599,     0.98699,     0.98799,     0.98899,     0.98999,     0.99099,     0.99199,     0.99299,     0.99399,     0.99499,       0.996,       0.997,       0.998,       0.999,           1]), array([[  0.0080781,   0.0080796,    0.010026,    0.016328,    0.040315,    0.062518,    0.076157,    0.087856,    0.097718,     0.10649,     0.11502,      0.1241,       0.131,     0.13884,     0.14587,     0.15263,     0.15926,     0.16503,     0.17074,     0.17711,      0.1828,     0.18865,     0.19536,\n",
       "            0.20093,     0.20399,     0.20957,     0.21424,     0.21956,     0.22501,     0.22979,     0.23656,     0.24145,     0.24647,     0.24952,     0.25423,     0.25804,     0.26004,     0.26475,     0.26896,     0.27317,     0.27728,     0.27993,      0.2836,     0.28755,     0.29163,     0.29366,\n",
       "            0.29712,      0.3013,      0.3039,     0.30777,       0.313,     0.31716,       0.323,     0.32614,     0.32789,      0.3306,     0.33331,     0.33588,     0.33846,     0.34113,     0.34295,     0.34523,     0.34673,     0.34848,     0.35112,     0.35397,     0.35736,     0.36069,     0.36399,\n",
       "            0.36681,     0.36957,     0.37206,      0.3742,     0.37998,     0.38404,     0.38911,     0.39175,     0.39517,     0.39786,     0.40074,     0.40201,     0.40349,      0.4056,     0.40514,     0.40702,     0.40896,     0.41023,      0.4121,     0.41565,     0.41747,     0.41732,     0.42176,\n",
       "            0.42293,     0.42611,     0.42775,      0.4295,      0.4332,     0.43574,     0.43643,     0.43775,     0.43939,      0.4406,     0.44346,     0.44593,     0.44876,     0.44906,     0.45171,     0.45226,     0.45416,      0.4555,      0.4583,     0.46039,     0.46194,     0.46468,     0.46553,\n",
       "            0.46685,     0.47089,     0.47505,     0.47803,     0.48012,     0.48264,     0.48548,     0.48557,     0.48669,     0.48729,      0.4882,       0.489,     0.48971,     0.48997,     0.48935,      0.4887,     0.48797,     0.48858,     0.49241,     0.49358,     0.49669,     0.49906,     0.50074,\n",
       "            0.50197,     0.50254,     0.50305,     0.50615,     0.50799,     0.50994,     0.51108,     0.51346,     0.51593,      0.5179,     0.52136,      0.5227,     0.52437,     0.52513,     0.52917,     0.53104,     0.53395,     0.53477,     0.53784,     0.54295,     0.54349,     0.54213,     0.54437,\n",
       "            0.54501,     0.54643,     0.54791,      0.5487,     0.54988,      0.5522,     0.55199,     0.55594,     0.55704,     0.55983,     0.56246,     0.56363,     0.56431,     0.56487,     0.56582,     0.56847,     0.56985,     0.57114,     0.57206,     0.57545,     0.57797,     0.57883,     0.58001,\n",
       "            0.58398,     0.58557,     0.58654,     0.59243,     0.59375,     0.59365,     0.59506,     0.59716,     0.60099,     0.60059,     0.60019,      0.6003,      0.6009,      0.6015,     0.60429,     0.60493,     0.60557,     0.60893,     0.60848,     0.60935,     0.60996,     0.61045,     0.61094,\n",
       "            0.61194,     0.61363,     0.61602,     0.61753,     0.61777,     0.62012,     0.62209,     0.62518,     0.62467,     0.62925,     0.63142,     0.63216,      0.6329,     0.63479,     0.63439,     0.63394,      0.6355,     0.63706,     0.63896,     0.64047,      0.6432,     0.64457,     0.64616,\n",
       "            0.64945,     0.64944,     0.64999,     0.65054,     0.65109,     0.65133,     0.65153,     0.65172,     0.65192,     0.65211,      0.6523,      0.6525,     0.65269,     0.65289,     0.65324,     0.65482,     0.65907,     0.66131,     0.66273,     0.66348,     0.66422,     0.66537,     0.66717,\n",
       "            0.66856,     0.66782,     0.67081,     0.67606,     0.67658,      0.6771,     0.67762,     0.67991,     0.68203,     0.68243,     0.68277,     0.68312,     0.68346,      0.6838,     0.68414,      0.6856,     0.68594,     0.68627,      0.6866,     0.68693,     0.68726,     0.68784,     0.68901,\n",
       "            0.69096,     0.69373,     0.69673,     0.69944,     0.70304,     0.70378,     0.70453,     0.70535,      0.7064,     0.70743,     0.70811,     0.70879,     0.70948,     0.70939,     0.70899,     0.71142,     0.71363,     0.71585,     0.71757,     0.71829,     0.71864,     0.71898,     0.71933,\n",
       "            0.71968,     0.72003,     0.72038,     0.72123,      0.7221,     0.72355,     0.72938,     0.72993,     0.73048,     0.73102,     0.73163,     0.73329,     0.73483,     0.73627,     0.74405,     0.74463,      0.7452,     0.74578,     0.74635,     0.74621,     0.74722,     0.75093,     0.75346,\n",
       "            0.75295,     0.75254,     0.75234,     0.75214,     0.75193,     0.75199,     0.75436,     0.75611,      0.7608,     0.76277,     0.76347,     0.76418,     0.76488,     0.76494,     0.76466,     0.76438,     0.76411,     0.76383,     0.76356,     0.76323,     0.76287,     0.76294,     0.76456,\n",
       "            0.76614,     0.76767,     0.76923,     0.77081,     0.77126,     0.77261,     0.77231,     0.77299,     0.77439,     0.77792,     0.78052,     0.78015,     0.78048,     0.78183,     0.78431,     0.78532,     0.78484,     0.78456,     0.78429,     0.78747,      0.7896,     0.78968,     0.78939,\n",
       "            0.79001,     0.79063,     0.79125,     0.79187,     0.79161,     0.79266,     0.79371,     0.79497,     0.79715,     0.80188,     0.80425,     0.80542,     0.80658,     0.80854,     0.81145,     0.81374,     0.81429,     0.81483,     0.81538,     0.81593,     0.81647,     0.81668,     0.81659,\n",
       "            0.81649,      0.8164,      0.8163,     0.81621,     0.81611,     0.81601,     0.81498,     0.81464,     0.81488,     0.81545,     0.81602,     0.81658,     0.81715,     0.81772,     0.82022,     0.82146,     0.82255,     0.82363,     0.82427,     0.82483,      0.8254,     0.82597,     0.82654,\n",
       "            0.82711,     0.82674,     0.82629,     0.82587,     0.82933,     0.82969,     0.83004,     0.83039,     0.83074,     0.83109,     0.83144,     0.83179,     0.83214,      0.8325,     0.83251,     0.83229,     0.83207,     0.83185,     0.83163,     0.83141,     0.83369,     0.83682,     0.83843,\n",
       "            0.83884,     0.83925,     0.83966,     0.84007,     0.84047,     0.84088,     0.84129,      0.8417,     0.84083,     0.83987,     0.84042,     0.84105,     0.84168,      0.8423,     0.84293,     0.84412,       0.847,     0.84658,     0.85012,      0.8499,     0.84968,     0.85335,     0.85432,\n",
       "             0.8553,     0.85627,     0.85736,     0.85943,     0.86094,     0.86075,     0.86055,     0.86036,     0.86045,     0.86151,     0.86257,     0.86363,     0.86296,     0.86262,     0.86276,      0.8639,     0.86504,     0.86618,     0.86629,      0.8662,     0.86612,     0.86603,     0.86595,\n",
       "            0.86586,     0.86578,     0.86981,       0.872,     0.87365,     0.87311,     0.87289,     0.87268,      0.8735,     0.87454,     0.87558,     0.87661,     0.88037,     0.88035,     0.88032,     0.88029,     0.88026,     0.88024,     0.88021,     0.88018,     0.88016,     0.88013,      0.8801,\n",
       "            0.88007,     0.88005,     0.88002,     0.87999,     0.87997,     0.87994,     0.87991,     0.87988,     0.87986,     0.87983,     0.87954,     0.87891,     0.87807,     0.87725,     0.87691,     0.87905,     0.88131,     0.88188,     0.88245,     0.88303,      0.8836,     0.88417,     0.88474,\n",
       "            0.88531,      0.8855,     0.88538,     0.88525,     0.88512,     0.88495,     0.88655,     0.88885,     0.88876,     0.88866,     0.88856,     0.88846,     0.88837,     0.88896,     0.89005,     0.89114,     0.89223,     0.89218,     0.89173,     0.89158,     0.89144,     0.89129,     0.89094,\n",
       "            0.89056,     0.89047,     0.89037,     0.89027,     0.89017,     0.89007,     0.89241,      0.8947,     0.89448,     0.89426,     0.89795,     0.90137,     0.90372,     0.90362,     0.90352,     0.90342,     0.90332,     0.90321,     0.90308,     0.90295,     0.90282,      0.9027,     0.90263,\n",
       "            0.90257,      0.9025,     0.90244,     0.90237,     0.90231,     0.90224,     0.90217,     0.90156,     0.90142,     0.90127,     0.90112,     0.90094,     0.90075,     0.90057,      0.9004,     0.90023,     0.90007,     0.89994,     0.89982,     0.89971,      0.8996,     0.89949,     0.89913,\n",
       "            0.89943,     0.90042,     0.90141,      0.9024,     0.90339,     0.90907,     0.90884,     0.90858,     0.90842,     0.90825,     0.90809,     0.90777,     0.90749,     0.90739,      0.9073,     0.90721,     0.90712,     0.90703,     0.90642,      0.9063,     0.90617,     0.90604,     0.90592,\n",
       "            0.90673,     0.90792,      0.9091,     0.91029,      0.9112,       0.911,      0.9108,     0.91175,     0.91357,     0.91538,     0.91563,      0.9155,     0.91538,     0.91525,     0.91508,     0.91474,     0.91391,     0.91392,     0.91641,     0.91889,     0.92058,     0.92325,     0.92438,\n",
       "            0.92411,     0.92993,     0.92984,     0.92975,     0.92967,     0.92958,     0.92949,      0.9294,     0.92931,     0.92922,     0.92913,     0.92904,      0.9292,     0.93224,     0.93454,     0.93413,     0.93387,     0.93356,     0.93319,     0.93425,     0.93885,     0.93875,      0.9387,\n",
       "            0.93865,      0.9386,     0.93855,      0.9385,     0.93845,     0.93841,     0.93836,      0.9383,     0.93825,     0.93819,     0.93814,     0.93808,     0.93802,     0.93797,     0.93845,      0.9434,     0.94319,     0.94309,     0.94299,     0.94289,      0.9424,     0.94223,     0.94205,\n",
       "            0.94152,     0.94116,     0.94106,     0.94097,     0.94088,     0.94078,     0.94057,      0.9473,      0.9473,     0.94724,     0.94717,     0.94711,     0.94704,     0.94698,     0.95028,     0.95394,     0.95415,     0.95409,     0.95404,     0.95399,     0.95393,     0.95388,      0.9538,\n",
       "            0.95367,     0.95355,     0.95327,     0.95295,      0.9527,     0.95251,     0.95236,      0.9523,     0.95224,     0.95218,     0.95211,     0.95205,     0.95195,     0.95162,     0.95143,     0.95125,     0.95095,     0.95062,     0.95039,     0.95031,     0.95023,     0.95015,     0.95008,\n",
       "               0.95,     0.94913,     0.94878,      0.9484,     0.94776,     0.94764,     0.94753,     0.94741,     0.94686,     0.94672,     0.94658,     0.94645,     0.94566,     0.94526,     0.94496,     0.94672,      0.9495,     0.95229,     0.95312,     0.95288,     0.95275,     0.95265,     0.95254,\n",
       "            0.95244,     0.95217,     0.95069,     0.95034,     0.95017,     0.94949,     0.94935,     0.94921,     0.94907,     0.94839,     0.94807,     0.94735,     0.94722,     0.94709,     0.94696,     0.94683,     0.94642,     0.94556,     0.94502,     0.94487,     0.94473,     0.94458,     0.94441,\n",
       "            0.94395,     0.94371,     0.94355,     0.94339,     0.94323,     0.94245,     0.94227,     0.94209,     0.94191,     0.94167,     0.94139,     0.94075,     0.93927,     0.93798,      0.9367,     0.93625,     0.93561,     0.93318,     0.93193,     0.93049,     0.93037,     0.93025,     0.93013,\n",
       "            0.93001,     0.92988,     0.92976,     0.92964,     0.92904,     0.92834,     0.92794,     0.92754,     0.92706,     0.92657,      0.9259,     0.92419,     0.92376,     0.92332,     0.92278,     0.92209,     0.92111,     0.92003,     0.91768,      0.9166,     0.91602,     0.91544,     0.91488,\n",
       "            0.91432,     0.91357,     0.91088,     0.90871,     0.90783,     0.90715,     0.90666,     0.90617,     0.90569,     0.90358,     0.90129,     0.89984,      0.8974,     0.89671,     0.89602,     0.89498,     0.89382,     0.89276,     0.89172,     0.89094,     0.89034,     0.88974,     0.88913,\n",
       "            0.88744,     0.88285,     0.87811,     0.87622,     0.87384,     0.87433,     0.88066,     0.88699,     0.89332,     0.88788,     0.88785,     0.90678,     0.90845,     0.90772,       0.907,     0.90627,     0.90441,     0.90227,     0.89988,     0.89882,     0.89777,     0.89671,     0.90009,\n",
       "            0.90426,     0.90843,      0.9126,     0.91677,     0.92094,     0.92511,     0.92852,     0.92823,     0.92793,     0.92764,     0.92735,     0.92705,     0.92676,     0.92646,     0.92617,     0.92582,      0.9252,     0.92458,     0.92396,     0.92334,     0.91896,      0.9541,     0.95314,\n",
       "            0.95088,     0.94974,     0.94944,     0.94914,     0.94885,     0.94855,     0.94825,     0.94796,     0.94766,     0.94736,     0.94675,     0.94615,     0.94554,     0.94494,     0.94417,     0.94273,     0.94129,     0.93423,     0.93249,     0.93146,     0.93043,      0.9294,     0.92814,\n",
       "            0.92591,     0.92369,     0.91638,     0.91281,     0.90925,     0.90602,     0.90281,     0.89911,     0.89206,     0.88784,     0.88592,     0.88401,      0.8821,     0.88018,     0.87827,     0.87636,     0.86878,     0.85487,     0.84992,     0.84496,     0.84001,     0.83506,     0.92477,\n",
       "                  1,           1,           1,           1,           1,           1,           1,           1,           1,           1,           1,           1,           1,           1,           1,           1,           1,           1,           1,           1,           1,           1,           1,\n",
       "                  1,           1,           1,           1,           1,           1,           1,           1,           1,           1,           1,           1,           1,           1,           1,           1,           1,           1,           1,           1,           1,           1,           1,\n",
       "                  1,           1,           1,           1,           1,           1,           1,           1,           1,           1,           1]]), 'Confidence', 'Precision'], [array([          0,    0.001001,    0.002002,    0.003003,    0.004004,    0.005005,    0.006006,    0.007007,    0.008008,    0.009009,     0.01001,    0.011011,    0.012012,    0.013013,    0.014014,    0.015015,    0.016016,    0.017017,    0.018018,    0.019019,     0.02002,    0.021021,    0.022022,    0.023023,\n",
       "          0.024024,    0.025025,    0.026026,    0.027027,    0.028028,    0.029029,     0.03003,    0.031031,    0.032032,    0.033033,    0.034034,    0.035035,    0.036036,    0.037037,    0.038038,    0.039039,     0.04004,    0.041041,    0.042042,    0.043043,    0.044044,    0.045045,    0.046046,    0.047047,\n",
       "          0.048048,    0.049049,     0.05005,    0.051051,    0.052052,    0.053053,    0.054054,    0.055055,    0.056056,    0.057057,    0.058058,    0.059059,     0.06006,    0.061061,    0.062062,    0.063063,    0.064064,    0.065065,    0.066066,    0.067067,    0.068068,    0.069069,     0.07007,    0.071071,\n",
       "          0.072072,    0.073073,    0.074074,    0.075075,    0.076076,    0.077077,    0.078078,    0.079079,     0.08008,    0.081081,    0.082082,    0.083083,    0.084084,    0.085085,    0.086086,    0.087087,    0.088088,    0.089089,     0.09009,    0.091091,    0.092092,    0.093093,    0.094094,    0.095095,\n",
       "          0.096096,    0.097097,    0.098098,    0.099099,      0.1001,      0.1011,      0.1021,      0.1031,      0.1041,     0.10511,     0.10611,     0.10711,     0.10811,     0.10911,     0.11011,     0.11111,     0.11211,     0.11311,     0.11411,     0.11512,     0.11612,     0.11712,     0.11812,     0.11912,\n",
       "           0.12012,     0.12112,     0.12212,     0.12312,     0.12412,     0.12513,     0.12613,     0.12713,     0.12813,     0.12913,     0.13013,     0.13113,     0.13213,     0.13313,     0.13413,     0.13514,     0.13614,     0.13714,     0.13814,     0.13914,     0.14014,     0.14114,     0.14214,     0.14314,\n",
       "           0.14414,     0.14515,     0.14615,     0.14715,     0.14815,     0.14915,     0.15015,     0.15115,     0.15215,     0.15315,     0.15415,     0.15516,     0.15616,     0.15716,     0.15816,     0.15916,     0.16016,     0.16116,     0.16216,     0.16316,     0.16416,     0.16517,     0.16617,     0.16717,\n",
       "           0.16817,     0.16917,     0.17017,     0.17117,     0.17217,     0.17317,     0.17417,     0.17518,     0.17618,     0.17718,     0.17818,     0.17918,     0.18018,     0.18118,     0.18218,     0.18318,     0.18418,     0.18519,     0.18619,     0.18719,     0.18819,     0.18919,     0.19019,     0.19119,\n",
       "           0.19219,     0.19319,     0.19419,      0.1952,      0.1962,      0.1972,      0.1982,      0.1992,      0.2002,      0.2012,      0.2022,      0.2032,      0.2042,     0.20521,     0.20621,     0.20721,     0.20821,     0.20921,     0.21021,     0.21121,     0.21221,     0.21321,     0.21421,     0.21522,\n",
       "           0.21622,     0.21722,     0.21822,     0.21922,     0.22022,     0.22122,     0.22222,     0.22322,     0.22422,     0.22523,     0.22623,     0.22723,     0.22823,     0.22923,     0.23023,     0.23123,     0.23223,     0.23323,     0.23423,     0.23524,     0.23624,     0.23724,     0.23824,     0.23924,\n",
       "           0.24024,     0.24124,     0.24224,     0.24324,     0.24424,     0.24525,     0.24625,     0.24725,     0.24825,     0.24925,     0.25025,     0.25125,     0.25225,     0.25325,     0.25425,     0.25526,     0.25626,     0.25726,     0.25826,     0.25926,     0.26026,     0.26126,     0.26226,     0.26326,\n",
       "           0.26426,     0.26527,     0.26627,     0.26727,     0.26827,     0.26927,     0.27027,     0.27127,     0.27227,     0.27327,     0.27427,     0.27528,     0.27628,     0.27728,     0.27828,     0.27928,     0.28028,     0.28128,     0.28228,     0.28328,     0.28428,     0.28529,     0.28629,     0.28729,\n",
       "           0.28829,     0.28929,     0.29029,     0.29129,     0.29229,     0.29329,     0.29429,      0.2953,      0.2963,      0.2973,      0.2983,      0.2993,      0.3003,      0.3013,      0.3023,      0.3033,      0.3043,     0.30531,     0.30631,     0.30731,     0.30831,     0.30931,     0.31031,     0.31131,\n",
       "           0.31231,     0.31331,     0.31431,     0.31532,     0.31632,     0.31732,     0.31832,     0.31932,     0.32032,     0.32132,     0.32232,     0.32332,     0.32432,     0.32533,     0.32633,     0.32733,     0.32833,     0.32933,     0.33033,     0.33133,     0.33233,     0.33333,     0.33433,     0.33534,\n",
       "           0.33634,     0.33734,     0.33834,     0.33934,     0.34034,     0.34134,     0.34234,     0.34334,     0.34434,     0.34535,     0.34635,     0.34735,     0.34835,     0.34935,     0.35035,     0.35135,     0.35235,     0.35335,     0.35435,     0.35536,     0.35636,     0.35736,     0.35836,     0.35936,\n",
       "           0.36036,     0.36136,     0.36236,     0.36336,     0.36436,     0.36537,     0.36637,     0.36737,     0.36837,     0.36937,     0.37037,     0.37137,     0.37237,     0.37337,     0.37437,     0.37538,     0.37638,     0.37738,     0.37838,     0.37938,     0.38038,     0.38138,     0.38238,     0.38338,\n",
       "           0.38438,     0.38539,     0.38639,     0.38739,     0.38839,     0.38939,     0.39039,     0.39139,     0.39239,     0.39339,     0.39439,      0.3954,      0.3964,      0.3974,      0.3984,      0.3994,      0.4004,      0.4014,      0.4024,      0.4034,      0.4044,     0.40541,     0.40641,     0.40741,\n",
       "           0.40841,     0.40941,     0.41041,     0.41141,     0.41241,     0.41341,     0.41441,     0.41542,     0.41642,     0.41742,     0.41842,     0.41942,     0.42042,     0.42142,     0.42242,     0.42342,     0.42442,     0.42543,     0.42643,     0.42743,     0.42843,     0.42943,     0.43043,     0.43143,\n",
       "           0.43243,     0.43343,     0.43443,     0.43544,     0.43644,     0.43744,     0.43844,     0.43944,     0.44044,     0.44144,     0.44244,     0.44344,     0.44444,     0.44545,     0.44645,     0.44745,     0.44845,     0.44945,     0.45045,     0.45145,     0.45245,     0.45345,     0.45445,     0.45546,\n",
       "           0.45646,     0.45746,     0.45846,     0.45946,     0.46046,     0.46146,     0.46246,     0.46346,     0.46446,     0.46547,     0.46647,     0.46747,     0.46847,     0.46947,     0.47047,     0.47147,     0.47247,     0.47347,     0.47447,     0.47548,     0.47648,     0.47748,     0.47848,     0.47948,\n",
       "           0.48048,     0.48148,     0.48248,     0.48348,     0.48448,     0.48549,     0.48649,     0.48749,     0.48849,     0.48949,     0.49049,     0.49149,     0.49249,     0.49349,     0.49449,      0.4955,      0.4965,      0.4975,      0.4985,      0.4995,      0.5005,      0.5015,      0.5025,      0.5035,\n",
       "            0.5045,     0.50551,     0.50651,     0.50751,     0.50851,     0.50951,     0.51051,     0.51151,     0.51251,     0.51351,     0.51451,     0.51552,     0.51652,     0.51752,     0.51852,     0.51952,     0.52052,     0.52152,     0.52252,     0.52352,     0.52452,     0.52553,     0.52653,     0.52753,\n",
       "           0.52853,     0.52953,     0.53053,     0.53153,     0.53253,     0.53353,     0.53453,     0.53554,     0.53654,     0.53754,     0.53854,     0.53954,     0.54054,     0.54154,     0.54254,     0.54354,     0.54454,     0.54555,     0.54655,     0.54755,     0.54855,     0.54955,     0.55055,     0.55155,\n",
       "           0.55255,     0.55355,     0.55455,     0.55556,     0.55656,     0.55756,     0.55856,     0.55956,     0.56056,     0.56156,     0.56256,     0.56356,     0.56456,     0.56557,     0.56657,     0.56757,     0.56857,     0.56957,     0.57057,     0.57157,     0.57257,     0.57357,     0.57457,     0.57558,\n",
       "           0.57658,     0.57758,     0.57858,     0.57958,     0.58058,     0.58158,     0.58258,     0.58358,     0.58458,     0.58559,     0.58659,     0.58759,     0.58859,     0.58959,     0.59059,     0.59159,     0.59259,     0.59359,     0.59459,      0.5956,      0.5966,      0.5976,      0.5986,      0.5996,\n",
       "            0.6006,      0.6016,      0.6026,      0.6036,      0.6046,     0.60561,     0.60661,     0.60761,     0.60861,     0.60961,     0.61061,     0.61161,     0.61261,     0.61361,     0.61461,     0.61562,     0.61662,     0.61762,     0.61862,     0.61962,     0.62062,     0.62162,     0.62262,     0.62362,\n",
       "           0.62462,     0.62563,     0.62663,     0.62763,     0.62863,     0.62963,     0.63063,     0.63163,     0.63263,     0.63363,     0.63463,     0.63564,     0.63664,     0.63764,     0.63864,     0.63964,     0.64064,     0.64164,     0.64264,     0.64364,     0.64464,     0.64565,     0.64665,     0.64765,\n",
       "           0.64865,     0.64965,     0.65065,     0.65165,     0.65265,     0.65365,     0.65465,     0.65566,     0.65666,     0.65766,     0.65866,     0.65966,     0.66066,     0.66166,     0.66266,     0.66366,     0.66466,     0.66567,     0.66667,     0.66767,     0.66867,     0.66967,     0.67067,     0.67167,\n",
       "           0.67267,     0.67367,     0.67467,     0.67568,     0.67668,     0.67768,     0.67868,     0.67968,     0.68068,     0.68168,     0.68268,     0.68368,     0.68468,     0.68569,     0.68669,     0.68769,     0.68869,     0.68969,     0.69069,     0.69169,     0.69269,     0.69369,     0.69469,      0.6957,\n",
       "            0.6967,      0.6977,      0.6987,      0.6997,      0.7007,      0.7017,      0.7027,      0.7037,      0.7047,     0.70571,     0.70671,     0.70771,     0.70871,     0.70971,     0.71071,     0.71171,     0.71271,     0.71371,     0.71471,     0.71572,     0.71672,     0.71772,     0.71872,     0.71972,\n",
       "           0.72072,     0.72172,     0.72272,     0.72372,     0.72472,     0.72573,     0.72673,     0.72773,     0.72873,     0.72973,     0.73073,     0.73173,     0.73273,     0.73373,     0.73473,     0.73574,     0.73674,     0.73774,     0.73874,     0.73974,     0.74074,     0.74174,     0.74274,     0.74374,\n",
       "           0.74474,     0.74575,     0.74675,     0.74775,     0.74875,     0.74975,     0.75075,     0.75175,     0.75275,     0.75375,     0.75475,     0.75576,     0.75676,     0.75776,     0.75876,     0.75976,     0.76076,     0.76176,     0.76276,     0.76376,     0.76476,     0.76577,     0.76677,     0.76777,\n",
       "           0.76877,     0.76977,     0.77077,     0.77177,     0.77277,     0.77377,     0.77477,     0.77578,     0.77678,     0.77778,     0.77878,     0.77978,     0.78078,     0.78178,     0.78278,     0.78378,     0.78478,     0.78579,     0.78679,     0.78779,     0.78879,     0.78979,     0.79079,     0.79179,\n",
       "           0.79279,     0.79379,     0.79479,      0.7958,      0.7968,      0.7978,      0.7988,      0.7998,      0.8008,      0.8018,      0.8028,      0.8038,      0.8048,     0.80581,     0.80681,     0.80781,     0.80881,     0.80981,     0.81081,     0.81181,     0.81281,     0.81381,     0.81481,     0.81582,\n",
       "           0.81682,     0.81782,     0.81882,     0.81982,     0.82082,     0.82182,     0.82282,     0.82382,     0.82482,     0.82583,     0.82683,     0.82783,     0.82883,     0.82983,     0.83083,     0.83183,     0.83283,     0.83383,     0.83483,     0.83584,     0.83684,     0.83784,     0.83884,     0.83984,\n",
       "           0.84084,     0.84184,     0.84284,     0.84384,     0.84484,     0.84585,     0.84685,     0.84785,     0.84885,     0.84985,     0.85085,     0.85185,     0.85285,     0.85385,     0.85485,     0.85586,     0.85686,     0.85786,     0.85886,     0.85986,     0.86086,     0.86186,     0.86286,     0.86386,\n",
       "           0.86486,     0.86587,     0.86687,     0.86787,     0.86887,     0.86987,     0.87087,     0.87187,     0.87287,     0.87387,     0.87487,     0.87588,     0.87688,     0.87788,     0.87888,     0.87988,     0.88088,     0.88188,     0.88288,     0.88388,     0.88488,     0.88589,     0.88689,     0.88789,\n",
       "           0.88889,     0.88989,     0.89089,     0.89189,     0.89289,     0.89389,     0.89489,      0.8959,      0.8969,      0.8979,      0.8989,      0.8999,      0.9009,      0.9019,      0.9029,      0.9039,      0.9049,     0.90591,     0.90691,     0.90791,     0.90891,     0.90991,     0.91091,     0.91191,\n",
       "           0.91291,     0.91391,     0.91491,     0.91592,     0.91692,     0.91792,     0.91892,     0.91992,     0.92092,     0.92192,     0.92292,     0.92392,     0.92492,     0.92593,     0.92693,     0.92793,     0.92893,     0.92993,     0.93093,     0.93193,     0.93293,     0.93393,     0.93493,     0.93594,\n",
       "           0.93694,     0.93794,     0.93894,     0.93994,     0.94094,     0.94194,     0.94294,     0.94394,     0.94494,     0.94595,     0.94695,     0.94795,     0.94895,     0.94995,     0.95095,     0.95195,     0.95295,     0.95395,     0.95495,     0.95596,     0.95696,     0.95796,     0.95896,     0.95996,\n",
       "           0.96096,     0.96196,     0.96296,     0.96396,     0.96496,     0.96597,     0.96697,     0.96797,     0.96897,     0.96997,     0.97097,     0.97197,     0.97297,     0.97397,     0.97497,     0.97598,     0.97698,     0.97798,     0.97898,     0.97998,     0.98098,     0.98198,     0.98298,     0.98398,\n",
       "           0.98498,     0.98599,     0.98699,     0.98799,     0.98899,     0.98999,     0.99099,     0.99199,     0.99299,     0.99399,     0.99499,       0.996,       0.997,       0.998,       0.999,           1]), array([[    0.95758,     0.95758,     0.95455,     0.94848,     0.94242,     0.93333,     0.92727,     0.92121,     0.91818,     0.91212,     0.90909,     0.90909,     0.90303,     0.90303,     0.90303,     0.89697,     0.89697,     0.89394,     0.89091,     0.89091,     0.88788,     0.88485,     0.88485,\n",
       "            0.88182,      0.8697,      0.8697,     0.86667,     0.86667,     0.86667,     0.86667,     0.86667,     0.86667,     0.86667,     0.86364,     0.86364,     0.86364,     0.85152,     0.85152,     0.85152,     0.85152,     0.84754,     0.84242,     0.84242,     0.83939,     0.83939,     0.83636,\n",
       "            0.83636,     0.83636,     0.83636,     0.83636,     0.83636,     0.83636,     0.83636,     0.83636,     0.83636,     0.83636,     0.83333,     0.83333,     0.83333,     0.83333,      0.8303,      0.8303,     0.82727,     0.82424,     0.82424,     0.82424,     0.82424,     0.82121,     0.82121,\n",
       "            0.82121,     0.81818,     0.81212,     0.80909,     0.80909,     0.80909,     0.80606,     0.80303,     0.80303,     0.80303,     0.80248,         0.8,     0.79736,     0.79697,     0.79459,     0.79394,     0.79091,     0.79091,     0.79091,     0.79091,     0.79091,     0.78485,     0.78485,\n",
       "            0.78485,     0.78182,     0.78182,     0.77879,     0.77879,     0.77879,     0.77879,     0.77879,     0.77879,     0.77879,     0.77507,     0.77273,     0.77216,      0.7697,     0.76894,     0.76667,     0.76667,     0.76667,     0.76364,      0.7627,     0.76061,     0.76061,     0.76061,\n",
       "            0.75758,     0.75758,     0.75758,     0.75758,     0.75758,     0.75758,     0.75455,      0.7494,     0.74701,     0.74242,     0.74242,     0.74242,     0.74242,     0.73941,     0.73759,     0.73568,     0.73354,      0.7303,      0.7303,      0.7303,      0.7303,      0.7303,      0.7303,\n",
       "             0.7303,      0.7303,      0.7303,      0.7303,      0.7303,      0.7303,      0.7303,      0.7303,      0.7303,      0.7303,      0.7303,      0.7303,     0.72727,     0.72727,     0.72727,     0.72727,     0.72727,     0.72452,     0.72424,     0.72424,     0.71793,     0.71212,     0.71212,\n",
       "            0.71212,     0.71212,     0.71212,     0.71212,     0.71212,     0.71212,     0.70909,     0.70909,     0.70909,     0.70909,     0.70909,     0.70909,     0.70909,     0.70909,     0.70909,     0.70909,     0.70909,     0.70909,     0.70909,     0.70909,     0.70909,     0.70909,     0.70909,\n",
       "            0.70909,     0.70909,     0.70909,     0.70909,     0.70862,     0.70606,     0.70303,     0.70303,     0.70288,     0.70173,     0.70057,         0.7,         0.7,         0.7,     0.69394,     0.69394,     0.69394,     0.69363,     0.69091,     0.69091,     0.69091,     0.69091,     0.69091,\n",
       "            0.69091,     0.69091,     0.69091,     0.68988,     0.68788,     0.68788,     0.68788,      0.6874,     0.68485,     0.68485,     0.68485,     0.68485,     0.68485,     0.68485,     0.68355,     0.68221,     0.68182,     0.68182,     0.68182,     0.68182,     0.68182,     0.68182,     0.68182,\n",
       "            0.68182,     0.67879,     0.67879,     0.67879,     0.67879,     0.67879,     0.67879,     0.67879,     0.67879,     0.67879,     0.67879,     0.67879,     0.67879,     0.67879,     0.67879,     0.67879,     0.67879,     0.67879,     0.67879,     0.67879,     0.67879,     0.67879,     0.67879,\n",
       "            0.67849,     0.67623,     0.67576,     0.67576,     0.67576,     0.67576,     0.67576,     0.67273,      0.6697,      0.6697,      0.6697,      0.6697,      0.6697,      0.6697,      0.6697,     0.66667,     0.66667,     0.66667,     0.66667,     0.66667,     0.66667,     0.66667,     0.66667,\n",
       "            0.66667,     0.66667,     0.66667,     0.66667,     0.66667,     0.66667,     0.66667,     0.66667,     0.66667,     0.66667,     0.66667,     0.66667,     0.66667,     0.66575,     0.66445,     0.66364,     0.66364,     0.66364,     0.66364,     0.66364,     0.66364,     0.66364,     0.66364,\n",
       "            0.66364,     0.66364,     0.66364,     0.66364,     0.66364,     0.66061,     0.66061,     0.66061,     0.66061,     0.66061,     0.66061,     0.66061,     0.66061,     0.66061,     0.66061,     0.66061,     0.66061,     0.66061,     0.66061,     0.65933,     0.65758,     0.65758,     0.65758,\n",
       "            0.65575,      0.6543,     0.65358,     0.65287,     0.65216,     0.65152,     0.65152,     0.65152,     0.65152,     0.65152,     0.65152,     0.65152,     0.65152,     0.65086,     0.64985,     0.64884,     0.64784,     0.64686,     0.64588,     0.64472,     0.64344,     0.64242,     0.64242,\n",
       "            0.64242,     0.64242,     0.64242,     0.64242,     0.63939,     0.63939,     0.63728,     0.63636,     0.63636,     0.63636,     0.63636,     0.63444,     0.63333,     0.63333,     0.63333,     0.63187,     0.63006,     0.62904,     0.62801,     0.62727,     0.62727,      0.6258,     0.62424,\n",
       "            0.62424,     0.62424,     0.62424,     0.62424,     0.62121,     0.62121,     0.62121,     0.62121,     0.62121,     0.62121,     0.62121,     0.62121,     0.62121,     0.62121,     0.62121,     0.62121,     0.62121,     0.62121,     0.62121,     0.62121,     0.62121,     0.62101,     0.62061,\n",
       "            0.62022,     0.61982,     0.61943,     0.61903,     0.61864,     0.61824,     0.61399,     0.61262,     0.61212,     0.61212,     0.61212,     0.61212,     0.61212,     0.61212,     0.60909,     0.60909,     0.60909,     0.60909,     0.60909,     0.60909,     0.60909,     0.60909,     0.60909,\n",
       "            0.60909,     0.60729,     0.60538,     0.60363,     0.60303,     0.60303,     0.60303,     0.60303,     0.60303,     0.60303,     0.60303,     0.60303,     0.60303,     0.60303,     0.60247,     0.60153,      0.6006,     0.59966,     0.59872,     0.59777,     0.59697,     0.59697,     0.59697,\n",
       "            0.59697,     0.59697,     0.59697,     0.59697,     0.59697,     0.59697,     0.59697,     0.59697,     0.59229,     0.58806,     0.58788,     0.58788,     0.58788,     0.58788,     0.58788,     0.58788,     0.58714,     0.58526,     0.58438,     0.58339,      0.5824,     0.58182,     0.58182,\n",
       "            0.58182,     0.58182,     0.58182,     0.58182,     0.58158,     0.58065,     0.57973,      0.5788,     0.57576,     0.57576,     0.57576,     0.57576,     0.57246,     0.57081,      0.5697,      0.5697,      0.5697,      0.5697,     0.56935,     0.56893,     0.56852,      0.5681,     0.56769,\n",
       "            0.56727,     0.56686,     0.56667,     0.56667,     0.56573,     0.56296,     0.56188,     0.56079,     0.56061,     0.56061,     0.56061,     0.56061,     0.55752,     0.55738,     0.55723,     0.55709,     0.55695,     0.55681,     0.55666,     0.55652,     0.55638,     0.55623,     0.55609,\n",
       "            0.55595,     0.55581,     0.55566,     0.55552,     0.55538,     0.55523,     0.55509,     0.55495,     0.55481,     0.55466,     0.55315,     0.54986,     0.54556,     0.54143,     0.53972,     0.53939,     0.53939,     0.53939,     0.53939,     0.53939,     0.53939,     0.53939,     0.53939,\n",
       "            0.53939,     0.53903,     0.53835,     0.53768,     0.53701,     0.53608,     0.53333,     0.53314,     0.53261,     0.53209,     0.53157,     0.53105,     0.53052,      0.5303,      0.5303,      0.5303,      0.5303,     0.52659,     0.52411,     0.52332,     0.52254,     0.52176,     0.51989,\n",
       "            0.51786,     0.51734,     0.51681,     0.51629,     0.51577,     0.51524,     0.51515,     0.51493,     0.51374,     0.51254,     0.51212,     0.51212,     0.51201,     0.51141,     0.51082,     0.51022,     0.50962,     0.50901,     0.50826,     0.50751,     0.50676,     0.50604,     0.50566,\n",
       "            0.50529,     0.50491,     0.50454,     0.50416,     0.50379,     0.50341,     0.50303,     0.49958,     0.49875,     0.49793,      0.4971,      0.4961,     0.49506,     0.49402,      0.4931,     0.49219,     0.49129,     0.49056,     0.48996,     0.48935,     0.48875,     0.48815,     0.48619,\n",
       "            0.48485,     0.48485,     0.48485,     0.48485,     0.48485,     0.48485,     0.48337,     0.48189,     0.48093,     0.47999,     0.47905,     0.47724,     0.47559,     0.47508,     0.47456,     0.47404,     0.47353,     0.47301,     0.46965,     0.46895,     0.46826,     0.46756,     0.46686,\n",
       "            0.46667,     0.46667,     0.46667,     0.46667,     0.46644,     0.46529,     0.46413,     0.46364,     0.46364,     0.46364,      0.4604,     0.45966,     0.45891,     0.45817,     0.45717,     0.45515,     0.45036,     0.44848,     0.44848,     0.44848,     0.44545,     0.44545,     0.44454,\n",
       "            0.44279,      0.4424,      0.4418,      0.4412,      0.4406,        0.44,      0.4394,      0.4388,     0.43819,     0.43759,     0.43699,     0.43639,     0.43333,     0.43333,     0.43264,     0.42976,     0.42794,     0.42578,     0.42325,     0.42121,     0.42121,     0.41796,     0.41761,\n",
       "            0.41726,     0.41691,     0.41656,     0.41621,     0.41586,     0.41551,     0.41516,     0.41477,     0.41437,     0.41398,     0.41358,     0.41318,     0.41279,     0.41239,     0.40909,      0.4041,     0.40247,     0.40172,     0.40096,     0.40021,     0.39664,     0.39538,     0.39411,\n",
       "            0.39034,     0.38775,      0.3871,     0.38645,      0.3858,     0.38516,     0.38367,     0.38182,     0.38132,     0.38082,     0.38033,     0.37983,     0.37933,     0.37883,     0.37879,     0.37879,     0.37836,     0.37789,     0.37743,     0.37697,      0.3765,     0.37604,     0.37535,\n",
       "            0.37431,     0.37326,     0.37092,     0.36824,     0.36624,      0.3647,     0.36348,     0.36299,      0.3625,     0.36201,     0.36152,     0.36103,     0.36023,     0.35761,      0.3562,     0.35482,     0.35248,     0.35005,     0.34829,     0.34773,     0.34716,     0.34659,     0.34602,\n",
       "            0.34546,     0.33921,     0.33677,     0.33421,     0.32984,     0.32908,     0.32833,     0.32757,     0.32399,      0.3231,     0.32221,     0.32132,     0.31643,       0.314,     0.31218,     0.30909,     0.30909,     0.30909,     0.30805,     0.30644,     0.30552,     0.30481,     0.30411,\n",
       "             0.3034,     0.30166,     0.29211,     0.28999,     0.28889,      0.2848,     0.28399,     0.28318,     0.28237,     0.27841,     0.27663,     0.27263,     0.27192,     0.27122,     0.27051,     0.26981,     0.26763,     0.26316,     0.26042,      0.2597,     0.25897,     0.25824,      0.2574,\n",
       "             0.2552,     0.25401,     0.25326,     0.25251,     0.25175,     0.24812,     0.24731,      0.2465,     0.24569,     0.24459,     0.24337,     0.24058,     0.23433,     0.22917,     0.22422,     0.22252,     0.22016,     0.21161,     0.20744,     0.20283,     0.20245,     0.20208,      0.2017,\n",
       "            0.20133,     0.20095,     0.20057,      0.2002,     0.19839,     0.19629,     0.19512,     0.19395,     0.19258,     0.19121,     0.18933,     0.18471,     0.18358,     0.18246,     0.18107,     0.17933,     0.17692,     0.17432,     0.16892,     0.16653,     0.16528,     0.16403,     0.16285,\n",
       "             0.1617,     0.16015,     0.15487,     0.15083,     0.14924,     0.14804,     0.14719,     0.14635,      0.1455,       0.142,     0.13836,     0.13612,     0.13254,     0.13155,     0.13057,     0.12914,     0.12755,     0.12615,     0.12479,     0.12379,     0.12303,     0.12228,     0.12152,\n",
       "            0.11947,     0.11419,     0.10916,     0.10727,     0.10496,     0.10303,     0.10303,     0.10303,     0.10303,    0.096007,    0.090909,    0.090909,    0.090227,    0.089451,    0.088674,    0.087898,    0.086033,    0.083949,    0.081712,    0.080785,    0.079857,     0.07893,    0.078788,\n",
       "           0.078788,    0.078788,    0.078788,    0.078788,    0.078788,    0.078788,     0.07873,    0.078394,    0.078057,     0.07772,    0.077384,    0.077047,     0.07671,    0.076374,    0.076037,    0.075645,    0.074986,    0.074327,    0.073667,    0.073008,    0.068755,    0.063006,    0.061673,\n",
       "           0.058697,    0.057274,    0.056932,     0.05659,    0.056248,    0.055906,    0.055564,    0.055223,    0.054881,    0.054533,    0.053906,    0.053279,    0.052652,    0.052025,    0.051265,    0.049928,     0.04859,    0.043074,    0.041888,    0.041233,    0.040578,    0.039923,    0.039158,\n",
       "           0.037929,    0.036699,    0.033217,    0.031792,    0.030367,     0.02928,    0.028209,     0.02703,    0.025107,    0.024013,    0.023595,    0.023178,    0.022761,    0.022343,    0.021926,    0.021509,    0.020156,    0.017893,    0.017262,    0.016632,    0.016001,    0.015371,    0.015152,\n",
       "           0.014958,     0.01454,    0.014121,    0.013703,    0.013285,    0.012867,    0.012449,    0.011519,   0.0089951,   0.0082273,   0.0074596,   0.0066918,   0.0056616,    0.003419,           0,           0,           0,           0,           0,           0,           0,           0,           0,\n",
       "                  0,           0,           0,           0,           0,           0,           0,           0,           0,           0,           0,           0,           0,           0,           0,           0,           0,           0,           0,           0,           0,           0,           0,\n",
       "                  0,           0,           0,           0,           0,           0,           0,           0,           0,           0,           0]]), 'Confidence', 'Recall']]\n",
       "fitness: 0.4415715052752198\n",
       "keys: ['metrics/precision(B)', 'metrics/recall(B)', 'metrics/mAP50(B)', 'metrics/mAP50-95(B)']\n",
       "maps: array([    0.41104])\n",
       "names: {0: 'pothole'}\n",
       "plot: True\n",
       "results_dict: {'metrics/precision(B)': 0.7895984833785868, 'metrics/recall(B)': 0.6272727272727273, 'metrics/mAP50(B)': 0.7163253175692265, 'metrics/mAP50-95(B)': 0.4110433039092191, 'fitness': 0.4415715052752198}\n",
       "save_dir: WindowsPath('runs/detect/train')\n",
       "speed: {'preprocess': 3.518296240623673, 'inference': 167.49463082705097, 'loss': 7.218044000429178e-05, 'postprocess': 3.8037330827260427}\n",
       "task: 'detect'"
      ]
     },
     "execution_count": 3,
     "metadata": {},
     "output_type": "execute_result"
    }
   ],
   "source": [
    "from ultralytics import YOLO\n",
    "\n",
    "# Load YOLOv8 model\n",
    "model = YOLO(\"yolov8n.pt\")\n",
    "\n",
    "# Train the model\n",
    "model.train(data=\"pothole_dataset/data.yaml\", epochs=10, imgsz=640, batch=16)"
   ]
  },
  {
   "cell_type": "code",
   "execution_count": 4,
   "metadata": {},
   "outputs": [
    {
     "name": "stdout",
     "output_type": "stream",
     "text": [
      "\n",
      "0: 640x640 1 pothole, 246.8ms\n",
      "Speed: 9.6ms preprocess, 246.8ms inference, 1.7ms postprocess per image at shape (1, 3, 640, 640)\n"
     ]
    },
    {
     "data": {
      "text/plain": [
       "<Figure size 640x480 with 1 Axes>"
      ]
     },
     "metadata": {},
     "output_type": "display_data"
    },
    {
     "name": "stdout",
     "output_type": "stream",
     "text": [
      "\n",
      "0: 640x640 2 potholes, 203.3ms\n",
      "Speed: 7.2ms preprocess, 203.3ms inference, 1.0ms postprocess per image at shape (1, 3, 640, 640)\n"
     ]
    },
    {
     "data": {
      "text/plain": [
       "<Figure size 640x480 with 1 Axes>"
      ]
     },
     "metadata": {},
     "output_type": "display_data"
    },
    {
     "name": "stdout",
     "output_type": "stream",
     "text": [
      "\n",
      "0: 640x640 1 pothole, 184.8ms\n",
      "Speed: 9.4ms preprocess, 184.8ms inference, 1.4ms postprocess per image at shape (1, 3, 640, 640)\n"
     ]
    },
    {
     "data": {
      "text/plain": [
       "<Figure size 640x480 with 1 Axes>"
      ]
     },
     "metadata": {},
     "output_type": "display_data"
    },
    {
     "name": "stdout",
     "output_type": "stream",
     "text": [
      "\n",
      "0: 640x640 2 potholes, 205.1ms\n",
      "Speed: 10.5ms preprocess, 205.1ms inference, 0.9ms postprocess per image at shape (1, 3, 640, 640)\n"
     ]
    },
    {
     "data": {
      "text/plain": [
       "<Figure size 640x480 with 1 Axes>"
      ]
     },
     "metadata": {},
     "output_type": "display_data"
    },
    {
     "name": "stdout",
     "output_type": "stream",
     "text": [
      "\n",
      "0: 640x640 3 potholes, 203.9ms\n",
      "Speed: 9.6ms preprocess, 203.9ms inference, 1.4ms postprocess per image at shape (1, 3, 640, 640)\n"
     ]
    },
    {
     "data": {
      "text/plain": [
       "<Figure size 640x480 with 1 Axes>"
      ]
     },
     "metadata": {},
     "output_type": "display_data"
    },
    {
     "name": "stdout",
     "output_type": "stream",
     "text": [
      "\n",
      "0: 640x640 3 potholes, 199.8ms\n",
      "Speed: 10.2ms preprocess, 199.8ms inference, 1.2ms postprocess per image at shape (1, 3, 640, 640)\n"
     ]
    },
    {
     "data": {
      "text/plain": [
       "<Figure size 640x480 with 1 Axes>"
      ]
     },
     "metadata": {},
     "output_type": "display_data"
    },
    {
     "name": "stdout",
     "output_type": "stream",
     "text": [
      "\n",
      "0: 640x640 3 potholes, 201.8ms\n",
      "Speed: 10.3ms preprocess, 201.8ms inference, 1.4ms postprocess per image at shape (1, 3, 640, 640)\n"
     ]
    },
    {
     "data": {
      "text/plain": [
       "<Figure size 640x480 with 1 Axes>"
      ]
     },
     "metadata": {},
     "output_type": "display_data"
    },
    {
     "name": "stdout",
     "output_type": "stream",
     "text": [
      "\n",
      "0: 640x640 4 potholes, 188.2ms\n",
      "Speed: 8.7ms preprocess, 188.2ms inference, 1.3ms postprocess per image at shape (1, 3, 640, 640)\n"
     ]
    },
    {
     "data": {
      "text/plain": [
       "<Figure size 640x480 with 1 Axes>"
      ]
     },
     "metadata": {},
     "output_type": "display_data"
    },
    {
     "name": "stdout",
     "output_type": "stream",
     "text": [
      "\n",
      "0: 640x640 1 pothole, 229.9ms\n",
      "Speed: 12.2ms preprocess, 229.9ms inference, 1.6ms postprocess per image at shape (1, 3, 640, 640)\n"
     ]
    },
    {
     "data": {
      "text/plain": [
       "<Figure size 640x480 with 1 Axes>"
      ]
     },
     "metadata": {},
     "output_type": "display_data"
    },
    {
     "name": "stdout",
     "output_type": "stream",
     "text": [
      "\n",
      "0: 640x640 1 pothole, 205.0ms\n",
      "Speed: 9.8ms preprocess, 205.0ms inference, 1.5ms postprocess per image at shape (1, 3, 640, 640)\n"
     ]
    },
    {
     "data": {
      "text/plain": [
       "<Figure size 640x480 with 1 Axes>"
      ]
     },
     "metadata": {},
     "output_type": "display_data"
    },
    {
     "name": "stdout",
     "output_type": "stream",
     "text": [
      "\n",
      "0: 640x640 6 potholes, 215.2ms\n",
      "Speed: 8.0ms preprocess, 215.2ms inference, 1.4ms postprocess per image at shape (1, 3, 640, 640)\n"
     ]
    },
    {
     "data": {
      "text/plain": [
       "<Figure size 640x480 with 1 Axes>"
      ]
     },
     "metadata": {},
     "output_type": "display_data"
    },
    {
     "name": "stdout",
     "output_type": "stream",
     "text": [
      "\n",
      "0: 640x640 2 potholes, 249.2ms\n",
      "Speed: 9.5ms preprocess, 249.2ms inference, 0.9ms postprocess per image at shape (1, 3, 640, 640)\n"
     ]
    },
    {
     "data": {
      "text/plain": [
       "<Figure size 640x480 with 1 Axes>"
      ]
     },
     "metadata": {},
     "output_type": "display_data"
    },
    {
     "name": "stdout",
     "output_type": "stream",
     "text": [
      "\n",
      "0: 640x640 (no detections), 219.4ms\n",
      "Speed: 9.4ms preprocess, 219.4ms inference, 1.3ms postprocess per image at shape (1, 3, 640, 640)\n"
     ]
    },
    {
     "data": {
      "text/plain": [
       "<Figure size 640x480 with 1 Axes>"
      ]
     },
     "metadata": {},
     "output_type": "display_data"
    },
    {
     "name": "stdout",
     "output_type": "stream",
     "text": [
      "\n",
      "0: 640x640 2 potholes, 370.2ms\n",
      "Speed: 8.6ms preprocess, 370.2ms inference, 1.4ms postprocess per image at shape (1, 3, 640, 640)\n"
     ]
    },
    {
     "data": {
      "text/plain": [
       "<Figure size 640x480 with 1 Axes>"
      ]
     },
     "metadata": {},
     "output_type": "display_data"
    },
    {
     "name": "stdout",
     "output_type": "stream",
     "text": [
      "\n",
      "0: 640x640 1 pothole, 195.8ms\n",
      "Speed: 10.3ms preprocess, 195.8ms inference, 1.3ms postprocess per image at shape (1, 3, 640, 640)\n"
     ]
    },
    {
     "data": {
      "text/plain": [
       "<Figure size 640x480 with 1 Axes>"
      ]
     },
     "metadata": {},
     "output_type": "display_data"
    },
    {
     "name": "stdout",
     "output_type": "stream",
     "text": [
      "\n",
      "0: 640x640 2 potholes, 187.6ms\n",
      "Speed: 10.2ms preprocess, 187.6ms inference, 1.4ms postprocess per image at shape (1, 3, 640, 640)\n"
     ]
    },
    {
     "data": {
      "text/plain": [
       "<Figure size 640x480 with 1 Axes>"
      ]
     },
     "metadata": {},
     "output_type": "display_data"
    },
    {
     "name": "stdout",
     "output_type": "stream",
     "text": [
      "\n",
      "0: 384x640 2 potholes, 178.8ms\n",
      "Speed: 7.3ms preprocess, 178.8ms inference, 1.7ms postprocess per image at shape (1, 3, 384, 640)\n"
     ]
    },
    {
     "data": {
      "text/plain": [
       "<Figure size 640x480 with 1 Axes>"
      ]
     },
     "metadata": {},
     "output_type": "display_data"
    },
    {
     "name": "stdout",
     "output_type": "stream",
     "text": [
      "\n",
      "0: 640x640 4 potholes, 196.4ms\n",
      "Speed: 10.4ms preprocess, 196.4ms inference, 1.4ms postprocess per image at shape (1, 3, 640, 640)\n"
     ]
    },
    {
     "data": {
      "text/plain": [
       "<Figure size 640x480 with 1 Axes>"
      ]
     },
     "metadata": {},
     "output_type": "display_data"
    },
    {
     "name": "stdout",
     "output_type": "stream",
     "text": [
      "\n",
      "0: 352x640 1 pothole, 134.7ms\n",
      "Speed: 6.0ms preprocess, 134.7ms inference, 1.9ms postprocess per image at shape (1, 3, 352, 640)\n"
     ]
    },
    {
     "data": {
      "text/plain": [
       "<Figure size 640x480 with 1 Axes>"
      ]
     },
     "metadata": {},
     "output_type": "display_data"
    },
    {
     "name": "stdout",
     "output_type": "stream",
     "text": [
      "\n",
      "0: 480x640 1 pothole, 332.8ms\n",
      "Speed: 14.8ms preprocess, 332.8ms inference, 1.3ms postprocess per image at shape (1, 3, 480, 640)\n"
     ]
    },
    {
     "data": {
      "text/plain": [
       "<Figure size 640x480 with 1 Axes>"
      ]
     },
     "metadata": {},
     "output_type": "display_data"
    },
    {
     "name": "stdout",
     "output_type": "stream",
     "text": [
      "\n",
      "0: 384x640 4 potholes, 134.3ms\n",
      "Speed: 4.5ms preprocess, 134.3ms inference, 1.5ms postprocess per image at shape (1, 3, 384, 640)\n"
     ]
    },
    {
     "data": {
      "text/plain": [
       "<Figure size 640x480 with 1 Axes>"
      ]
     },
     "metadata": {},
     "output_type": "display_data"
    },
    {
     "name": "stdout",
     "output_type": "stream",
     "text": [
      "\n",
      "0: 640x480 6 potholes, 182.9ms\n",
      "Speed: 14.4ms preprocess, 182.9ms inference, 0.9ms postprocess per image at shape (1, 3, 640, 480)\n"
     ]
    },
    {
     "data": {
      "text/plain": [
       "<Figure size 640x480 with 1 Axes>"
      ]
     },
     "metadata": {},
     "output_type": "display_data"
    },
    {
     "name": "stdout",
     "output_type": "stream",
     "text": [
      "\n",
      "0: 416x640 3 potholes, 201.3ms\n",
      "Speed: 5.4ms preprocess, 201.3ms inference, 1.8ms postprocess per image at shape (1, 3, 416, 640)\n"
     ]
    },
    {
     "data": {
      "text/plain": [
       "<Figure size 640x480 with 1 Axes>"
      ]
     },
     "metadata": {},
     "output_type": "display_data"
    },
    {
     "name": "stdout",
     "output_type": "stream",
     "text": [
      "\n",
      "0: 384x640 2 potholes, 176.8ms\n",
      "Speed: 6.0ms preprocess, 176.8ms inference, 1.3ms postprocess per image at shape (1, 3, 384, 640)\n"
     ]
    },
    {
     "data": {
      "text/plain": [
       "<Figure size 640x480 with 1 Axes>"
      ]
     },
     "metadata": {},
     "output_type": "display_data"
    },
    {
     "name": "stdout",
     "output_type": "stream",
     "text": [
      "\n",
      "0: 448x640 5 potholes, 196.5ms\n",
      "Speed: 6.8ms preprocess, 196.5ms inference, 0.9ms postprocess per image at shape (1, 3, 448, 640)\n"
     ]
    },
    {
     "data": {
      "text/plain": [
       "<Figure size 640x480 with 1 Axes>"
      ]
     },
     "metadata": {},
     "output_type": "display_data"
    },
    {
     "name": "stdout",
     "output_type": "stream",
     "text": [
      "\n",
      "0: 448x640 4 potholes, 178.6ms\n",
      "Speed: 6.3ms preprocess, 178.6ms inference, 1.3ms postprocess per image at shape (1, 3, 448, 640)\n"
     ]
    },
    {
     "data": {
      "text/plain": [
       "<Figure size 640x480 with 1 Axes>"
      ]
     },
     "metadata": {},
     "output_type": "display_data"
    },
    {
     "name": "stdout",
     "output_type": "stream",
     "text": [
      "\n",
      "0: 416x640 3 potholes, 144.4ms\n",
      "Speed: 5.0ms preprocess, 144.4ms inference, 1.4ms postprocess per image at shape (1, 3, 416, 640)\n"
     ]
    },
    {
     "data": {
      "text/plain": [
       "<Figure size 640x480 with 1 Axes>"
      ]
     },
     "metadata": {},
     "output_type": "display_data"
    },
    {
     "name": "stdout",
     "output_type": "stream",
     "text": [
      "\n",
      "0: 448x640 1 pothole, 175.6ms\n",
      "Speed: 3.9ms preprocess, 175.6ms inference, 1.3ms postprocess per image at shape (1, 3, 448, 640)\n"
     ]
    },
    {
     "data": {
      "text/plain": [
       "<Figure size 640x480 with 1 Axes>"
      ]
     },
     "metadata": {},
     "output_type": "display_data"
    },
    {
     "name": "stdout",
     "output_type": "stream",
     "text": [
      "\n",
      "0: 640x640 2 potholes, 267.5ms\n",
      "Speed: 29.9ms preprocess, 267.5ms inference, 2.6ms postprocess per image at shape (1, 3, 640, 640)\n"
     ]
    },
    {
     "data": {
      "text/plain": [
       "<Figure size 640x480 with 1 Axes>"
      ]
     },
     "metadata": {},
     "output_type": "display_data"
    },
    {
     "name": "stdout",
     "output_type": "stream",
     "text": [
      "\n",
      "0: 288x640 1 pothole, 222.3ms\n",
      "Speed: 3.1ms preprocess, 222.3ms inference, 1.4ms postprocess per image at shape (1, 3, 288, 640)\n"
     ]
    },
    {
     "data": {
      "text/plain": [
       "<Figure size 640x480 with 1 Axes>"
      ]
     },
     "metadata": {},
     "output_type": "display_data"
    },
    {
     "name": "stdout",
     "output_type": "stream",
     "text": [
      "\n",
      "0: 320x640 1 pothole, 237.3ms\n",
      "Speed: 3.5ms preprocess, 237.3ms inference, 1.7ms postprocess per image at shape (1, 3, 320, 640)\n"
     ]
    },
    {
     "data": {
      "text/plain": [
       "<Figure size 640x480 with 1 Axes>"
      ]
     },
     "metadata": {},
     "output_type": "display_data"
    },
    {
     "name": "stdout",
     "output_type": "stream",
     "text": [
      "\n",
      "0: 640x480 2 potholes, 222.0ms\n",
      "Speed: 15.8ms preprocess, 222.0ms inference, 2.9ms postprocess per image at shape (1, 3, 640, 480)\n"
     ]
    },
    {
     "data": {
      "text/plain": [
       "<Figure size 640x480 with 1 Axes>"
      ]
     },
     "metadata": {},
     "output_type": "display_data"
    },
    {
     "name": "stdout",
     "output_type": "stream",
     "text": [
      "\n",
      "0: 448x640 2 potholes, 199.5ms\n",
      "Speed: 5.7ms preprocess, 199.5ms inference, 2.1ms postprocess per image at shape (1, 3, 448, 640)\n"
     ]
    },
    {
     "data": {
      "text/plain": [
       "<Figure size 640x480 with 1 Axes>"
      ]
     },
     "metadata": {},
     "output_type": "display_data"
    },
    {
     "name": "stdout",
     "output_type": "stream",
     "text": [
      "\n",
      "0: 384x640 7 potholes, 199.3ms\n",
      "Speed: 23.2ms preprocess, 199.3ms inference, 3.0ms postprocess per image at shape (1, 3, 384, 640)\n"
     ]
    },
    {
     "data": {
      "text/plain": [
       "<Figure size 640x480 with 1 Axes>"
      ]
     },
     "metadata": {},
     "output_type": "display_data"
    },
    {
     "name": "stdout",
     "output_type": "stream",
     "text": [
      "\n",
      "0: 288x640 3 potholes, 306.7ms\n",
      "Speed: 13.9ms preprocess, 306.7ms inference, 1.6ms postprocess per image at shape (1, 3, 288, 640)\n"
     ]
    },
    {
     "data": {
      "text/plain": [
       "<Figure size 640x480 with 1 Axes>"
      ]
     },
     "metadata": {},
     "output_type": "display_data"
    },
    {
     "name": "stdout",
     "output_type": "stream",
     "text": [
      "\n",
      "0: 480x640 7 potholes, 163.4ms\n",
      "Speed: 7.0ms preprocess, 163.4ms inference, 0.9ms postprocess per image at shape (1, 3, 480, 640)\n"
     ]
    },
    {
     "data": {
      "text/plain": [
       "<Figure size 640x480 with 1 Axes>"
      ]
     },
     "metadata": {},
     "output_type": "display_data"
    },
    {
     "name": "stdout",
     "output_type": "stream",
     "text": [
      "\n",
      "0: 480x640 2 potholes, 165.9ms\n",
      "Speed: 5.6ms preprocess, 165.9ms inference, 1.7ms postprocess per image at shape (1, 3, 480, 640)\n"
     ]
    },
    {
     "data": {
      "text/plain": [
       "<Figure size 640x480 with 1 Axes>"
      ]
     },
     "metadata": {},
     "output_type": "display_data"
    },
    {
     "name": "stdout",
     "output_type": "stream",
     "text": [
      "\n",
      "0: 640x640 3 potholes, 204.0ms\n",
      "Speed: 10.3ms preprocess, 204.0ms inference, 1.7ms postprocess per image at shape (1, 3, 640, 640)\n"
     ]
    },
    {
     "data": {
      "text/plain": [
       "<Figure size 640x480 with 1 Axes>"
      ]
     },
     "metadata": {},
     "output_type": "display_data"
    },
    {
     "name": "stdout",
     "output_type": "stream",
     "text": [
      "\n",
      "0: 448x640 2 potholes, 180.2ms\n",
      "Speed: 4.6ms preprocess, 180.2ms inference, 1.0ms postprocess per image at shape (1, 3, 448, 640)\n"
     ]
    },
    {
     "data": {
      "text/plain": [
       "<Figure size 640x480 with 1 Axes>"
      ]
     },
     "metadata": {},
     "output_type": "display_data"
    },
    {
     "name": "stdout",
     "output_type": "stream",
     "text": [
      "\n",
      "0: 448x640 2 potholes, 156.6ms\n",
      "Speed: 7.9ms preprocess, 156.6ms inference, 1.6ms postprocess per image at shape (1, 3, 448, 640)\n"
     ]
    },
    {
     "data": {
      "text/plain": [
       "<Figure size 640x480 with 1 Axes>"
      ]
     },
     "metadata": {},
     "output_type": "display_data"
    },
    {
     "name": "stdout",
     "output_type": "stream",
     "text": [
      "\n",
      "0: 640x640 2 potholes, 345.1ms\n",
      "Speed: 8.2ms preprocess, 345.1ms inference, 1.0ms postprocess per image at shape (1, 3, 640, 640)\n"
     ]
    },
    {
     "data": {
      "text/plain": [
       "<Figure size 640x480 with 1 Axes>"
      ]
     },
     "metadata": {},
     "output_type": "display_data"
    },
    {
     "name": "stdout",
     "output_type": "stream",
     "text": [
      "\n",
      "0: 384x640 1 pothole, 141.9ms\n",
      "Speed: 5.5ms preprocess, 141.9ms inference, 1.4ms postprocess per image at shape (1, 3, 384, 640)\n"
     ]
    },
    {
     "data": {
      "text/plain": [
       "<Figure size 640x480 with 1 Axes>"
      ]
     },
     "metadata": {},
     "output_type": "display_data"
    },
    {
     "name": "stdout",
     "output_type": "stream",
     "text": [
      "\n",
      "0: 352x640 4 potholes, 172.6ms\n",
      "Speed: 11.2ms preprocess, 172.6ms inference, 2.3ms postprocess per image at shape (1, 3, 352, 640)\n"
     ]
    },
    {
     "data": {
      "text/plain": [
       "<Figure size 640x480 with 1 Axes>"
      ]
     },
     "metadata": {},
     "output_type": "display_data"
    },
    {
     "name": "stdout",
     "output_type": "stream",
     "text": [
      "\n",
      "0: 640x640 1 pothole, 209.6ms\n",
      "Speed: 11.4ms preprocess, 209.6ms inference, 1.2ms postprocess per image at shape (1, 3, 640, 640)\n"
     ]
    },
    {
     "data": {
      "text/plain": [
       "<Figure size 640x480 with 1 Axes>"
      ]
     },
     "metadata": {},
     "output_type": "display_data"
    },
    {
     "name": "stdout",
     "output_type": "stream",
     "text": [
      "\n",
      "0: 320x640 2 potholes, 172.4ms\n",
      "Speed: 4.2ms preprocess, 172.4ms inference, 1.4ms postprocess per image at shape (1, 3, 320, 640)\n"
     ]
    },
    {
     "data": {
      "text/plain": [
       "<Figure size 640x480 with 1 Axes>"
      ]
     },
     "metadata": {},
     "output_type": "display_data"
    },
    {
     "name": "stdout",
     "output_type": "stream",
     "text": [
      "\n",
      "0: 416x640 1 pothole, 164.0ms\n",
      "Speed: 6.0ms preprocess, 164.0ms inference, 1.5ms postprocess per image at shape (1, 3, 416, 640)\n"
     ]
    },
    {
     "data": {
      "text/plain": [
       "<Figure size 640x480 with 1 Axes>"
      ]
     },
     "metadata": {},
     "output_type": "display_data"
    },
    {
     "name": "stdout",
     "output_type": "stream",
     "text": [
      "\n",
      "0: 544x640 1 pothole, 447.2ms\n",
      "Speed: 7.7ms preprocess, 447.2ms inference, 1.0ms postprocess per image at shape (1, 3, 544, 640)\n"
     ]
    },
    {
     "data": {
      "text/plain": [
       "<Figure size 640x480 with 1 Axes>"
      ]
     },
     "metadata": {},
     "output_type": "display_data"
    },
    {
     "name": "stdout",
     "output_type": "stream",
     "text": [
      "\n",
      "0: 384x640 2 potholes, 177.5ms\n",
      "Speed: 6.1ms preprocess, 177.5ms inference, 1.0ms postprocess per image at shape (1, 3, 384, 640)\n"
     ]
    },
    {
     "data": {
      "text/plain": [
       "<Figure size 640x480 with 1 Axes>"
      ]
     },
     "metadata": {},
     "output_type": "display_data"
    },
    {
     "name": "stdout",
     "output_type": "stream",
     "text": [
      "\n",
      "0: 480x640 3 potholes, 191.5ms\n",
      "Speed: 4.6ms preprocess, 191.5ms inference, 1.0ms postprocess per image at shape (1, 3, 480, 640)\n"
     ]
    },
    {
     "data": {
      "text/plain": [
       "<Figure size 640x480 with 1 Axes>"
      ]
     },
     "metadata": {},
     "output_type": "display_data"
    },
    {
     "name": "stdout",
     "output_type": "stream",
     "text": [
      "\n",
      "0: 640x640 1 pothole, 274.6ms\n",
      "Speed: 12.7ms preprocess, 274.6ms inference, 3.1ms postprocess per image at shape (1, 3, 640, 640)\n"
     ]
    },
    {
     "data": {
      "text/plain": [
       "<Figure size 640x480 with 1 Axes>"
      ]
     },
     "metadata": {},
     "output_type": "display_data"
    },
    {
     "name": "stdout",
     "output_type": "stream",
     "text": [
      "\n",
      "0: 480x640 4 potholes, 211.0ms\n",
      "Speed: 8.9ms preprocess, 211.0ms inference, 1.8ms postprocess per image at shape (1, 3, 480, 640)\n"
     ]
    },
    {
     "data": {
      "text/plain": [
       "<Figure size 640x480 with 1 Axes>"
      ]
     },
     "metadata": {},
     "output_type": "display_data"
    },
    {
     "name": "stdout",
     "output_type": "stream",
     "text": [
      "\n",
      "0: 448x640 3 potholes, 199.1ms\n",
      "Speed: 16.2ms preprocess, 199.1ms inference, 1.6ms postprocess per image at shape (1, 3, 448, 640)\n"
     ]
    },
    {
     "data": {
      "text/plain": [
       "<Figure size 640x480 with 1 Axes>"
      ]
     },
     "metadata": {},
     "output_type": "display_data"
    },
    {
     "name": "stdout",
     "output_type": "stream",
     "text": [
      "\n",
      "0: 224x640 1 pothole, 232.9ms\n",
      "Speed: 47.0ms preprocess, 232.9ms inference, 1.4ms postprocess per image at shape (1, 3, 224, 640)\n"
     ]
    },
    {
     "data": {
      "text/plain": [
       "<Figure size 640x480 with 1 Axes>"
      ]
     },
     "metadata": {},
     "output_type": "display_data"
    },
    {
     "name": "stdout",
     "output_type": "stream",
     "text": [
      "\n",
      "0: 480x640 3 potholes, 202.6ms\n",
      "Speed: 6.2ms preprocess, 202.6ms inference, 2.4ms postprocess per image at shape (1, 3, 480, 640)\n"
     ]
    },
    {
     "data": {
      "text/plain": [
       "<Figure size 640x480 with 1 Axes>"
      ]
     },
     "metadata": {},
     "output_type": "display_data"
    },
    {
     "name": "stdout",
     "output_type": "stream",
     "text": [
      "\n",
      "0: 384x640 2 potholes, 208.6ms\n",
      "Speed: 4.9ms preprocess, 208.6ms inference, 1.2ms postprocess per image at shape (1, 3, 384, 640)\n"
     ]
    },
    {
     "data": {
      "text/plain": [
       "<Figure size 640x480 with 1 Axes>"
      ]
     },
     "metadata": {},
     "output_type": "display_data"
    },
    {
     "name": "stdout",
     "output_type": "stream",
     "text": [
      "\n",
      "0: 480x640 1 pothole, 183.1ms\n",
      "Speed: 11.6ms preprocess, 183.1ms inference, 1.6ms postprocess per image at shape (1, 3, 480, 640)\n"
     ]
    },
    {
     "data": {
      "text/plain": [
       "<Figure size 640x480 with 1 Axes>"
      ]
     },
     "metadata": {},
     "output_type": "display_data"
    },
    {
     "name": "stdout",
     "output_type": "stream",
     "text": [
      "\n",
      "0: 416x640 4 potholes, 188.9ms\n",
      "Speed: 8.1ms preprocess, 188.9ms inference, 0.8ms postprocess per image at shape (1, 3, 416, 640)\n"
     ]
    },
    {
     "data": {
      "text/plain": [
       "<Figure size 640x480 with 1 Axes>"
      ]
     },
     "metadata": {},
     "output_type": "display_data"
    },
    {
     "name": "stdout",
     "output_type": "stream",
     "text": [
      "\n",
      "0: 384x640 1 pothole, 146.7ms\n",
      "Speed: 5.2ms preprocess, 146.7ms inference, 2.4ms postprocess per image at shape (1, 3, 384, 640)\n"
     ]
    },
    {
     "data": {
      "text/plain": [
       "<Figure size 640x480 with 1 Axes>"
      ]
     },
     "metadata": {},
     "output_type": "display_data"
    },
    {
     "name": "stdout",
     "output_type": "stream",
     "text": [
      "\n",
      "0: 640x640 6 potholes, 391.3ms\n",
      "Speed: 9.0ms preprocess, 391.3ms inference, 1.9ms postprocess per image at shape (1, 3, 640, 640)\n"
     ]
    },
    {
     "data": {
      "text/plain": [
       "<Figure size 640x480 with 1 Axes>"
      ]
     },
     "metadata": {},
     "output_type": "display_data"
    },
    {
     "name": "stdout",
     "output_type": "stream",
     "text": [
      "\n",
      "0: 448x640 4 potholes, 175.1ms\n",
      "Speed: 6.5ms preprocess, 175.1ms inference, 1.6ms postprocess per image at shape (1, 3, 448, 640)\n"
     ]
    },
    {
     "data": {
      "text/plain": [
       "<Figure size 640x480 with 1 Axes>"
      ]
     },
     "metadata": {},
     "output_type": "display_data"
    },
    {
     "name": "stdout",
     "output_type": "stream",
     "text": [
      "\n",
      "0: 448x640 11 potholes, 207.9ms\n",
      "Speed: 7.2ms preprocess, 207.9ms inference, 1.1ms postprocess per image at shape (1, 3, 448, 640)\n"
     ]
    },
    {
     "data": {
      "text/plain": [
       "<Figure size 640x480 with 1 Axes>"
      ]
     },
     "metadata": {},
     "output_type": "display_data"
    },
    {
     "name": "stdout",
     "output_type": "stream",
     "text": [
      "\n",
      "0: 640x640 1 pothole, 221.4ms\n",
      "Speed: 11.8ms preprocess, 221.4ms inference, 1.3ms postprocess per image at shape (1, 3, 640, 640)\n"
     ]
    },
    {
     "data": {
      "text/plain": [
       "<Figure size 640x480 with 1 Axes>"
      ]
     },
     "metadata": {},
     "output_type": "display_data"
    },
    {
     "name": "stdout",
     "output_type": "stream",
     "text": [
      "\n",
      "0: 640x640 1 pothole, 220.9ms\n",
      "Speed: 11.5ms preprocess, 220.9ms inference, 1.2ms postprocess per image at shape (1, 3, 640, 640)\n"
     ]
    },
    {
     "data": {
      "text/plain": [
       "<Figure size 640x480 with 1 Axes>"
      ]
     },
     "metadata": {},
     "output_type": "display_data"
    },
    {
     "name": "stdout",
     "output_type": "stream",
     "text": [
      "\n",
      "0: 640x640 1 pothole, 212.9ms\n",
      "Speed: 10.0ms preprocess, 212.9ms inference, 1.6ms postprocess per image at shape (1, 3, 640, 640)\n"
     ]
    },
    {
     "data": {
      "text/plain": [
       "<Figure size 640x480 with 1 Axes>"
      ]
     },
     "metadata": {},
     "output_type": "display_data"
    },
    {
     "name": "stdout",
     "output_type": "stream",
     "text": [
      "\n",
      "0: 640x640 1 pothole, 241.0ms\n",
      "Speed: 43.4ms preprocess, 241.0ms inference, 2.7ms postprocess per image at shape (1, 3, 640, 640)\n"
     ]
    },
    {
     "data": {
      "text/plain": [
       "<Figure size 640x480 with 1 Axes>"
      ]
     },
     "metadata": {},
     "output_type": "display_data"
    },
    {
     "name": "stdout",
     "output_type": "stream",
     "text": [
      "\n",
      "0: 640x640 2 potholes, 283.5ms\n",
      "Speed: 18.8ms preprocess, 283.5ms inference, 1.2ms postprocess per image at shape (1, 3, 640, 640)\n"
     ]
    },
    {
     "data": {
      "text/plain": [
       "<Figure size 640x480 with 1 Axes>"
      ]
     },
     "metadata": {},
     "output_type": "display_data"
    },
    {
     "name": "stdout",
     "output_type": "stream",
     "text": [
      "\n",
      "0: 640x640 5 potholes, 246.4ms\n",
      "Speed: 17.7ms preprocess, 246.4ms inference, 1.7ms postprocess per image at shape (1, 3, 640, 640)\n"
     ]
    },
    {
     "data": {
      "text/plain": [
       "<Figure size 640x480 with 1 Axes>"
      ]
     },
     "metadata": {},
     "output_type": "display_data"
    },
    {
     "name": "stdout",
     "output_type": "stream",
     "text": [
      "🚀 Object detection completed! Check the 'predictions' folder.\n"
     ]
    }
   ],
   "source": [
    "import cv2\n",
    "import matplotlib.pyplot as plt\n",
    "\n",
    "# Load trained model\n",
    "trained_model_path = \"runs/detect/train/weights/best.pt\"\n",
    "model = YOLO(trained_model_path)\n",
    "\n",
    "# Set test image path\n",
    "test_images_path = \"pothole_dataset/test/images\"\n",
    "output_dir = \"predictions\"\n",
    "os.makedirs(output_dir, exist_ok=True)\n",
    "\n",
    "# Run inference\n",
    "for img_file in os.listdir(test_images_path):\n",
    "    img_path = os.path.join(test_images_path, img_file)\n",
    "    img = cv2.imread(img_path)\n",
    "\n",
    "    # Run YOLO detection\n",
    "    results = model(img)[0]\n",
    "\n",
    "    for box in results.boxes:\n",
    "        x1, y1, x2, y2 = map(int, box.xyxy[0])  # Bounding box\n",
    "        conf = box.conf[0].item()  # Confidence score\n",
    "        cls = int(box.cls[0].item())  # Class index\n",
    "\n",
    "        # Draw bounding box\n",
    "        label = f\"{results.names[cls]}: {conf:.2f}\"\n",
    "        cv2.rectangle(img, (x1, y1), (x2, y2), (0, 255, 0), 2)\n",
    "        cv2.putText(img, label, (x1, y1 - 10), cv2.FONT_HERSHEY_SIMPLEX, 0.5, (0, 255, 0), 2)\n",
    "\n",
    "    # Save image with predictions\n",
    "    output_path = os.path.join(output_dir, img_file)\n",
    "    cv2.imwrite(output_path, img)\n",
    "\n",
    "    # Display image\n",
    "    plt.imshow(cv2.cvtColor(img, cv2.COLOR_BGR2RGB))\n",
    "    plt.axis(\"off\")\n",
    "    plt.show()\n",
    "\n",
    "print(\"🚀 Object detection completed! Check the 'predictions' folder.\")"
   ]
  },
  {
   "cell_type": "code",
   "execution_count": null,
   "metadata": {},
   "outputs": [],
   "source": []
  }
 ],
 "metadata": {
  "kernelspec": {
   "display_name": "Python 3",
   "language": "python",
   "name": "python3"
  },
  "language_info": {
   "codemirror_mode": {
    "name": "ipython",
    "version": 3
   },
   "file_extension": ".py",
   "mimetype": "text/x-python",
   "name": "python",
   "nbconvert_exporter": "python",
   "pygments_lexer": "ipython3",
   "version": "3.12.6"
  }
 },
 "nbformat": 4,
 "nbformat_minor": 2
}
